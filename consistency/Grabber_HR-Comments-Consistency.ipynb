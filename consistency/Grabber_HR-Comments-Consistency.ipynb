{
 "cells": [
  {
   "cell_type": "code",
   "execution_count": 1,
   "metadata": {},
   "outputs": [],
   "source": [
    "import os\n",
    "import json\n",
    "import openai\n",
    "import asyncio\n",
    "import numpy as np\n",
    "import nest_asyncio\n",
    "import pandas as pd\n",
    "import matplotlib.pyplot as plt\n",
    "\n",
    "from sklearn.manifold import TSNE\n",
    "from sklearn.metrics.pairwise import cosine_similarity\n",
    "from sentence_transformers import SentenceTransformer, models\n",
    "\n",
    "from src.openai_processor import chatgpt_response\n",
    "from src.data_processor import translate_and_convert_to_string, process_vision_result, extract_workstyle_info"
   ]
  },
  {
   "cell_type": "code",
   "execution_count": 2,
   "metadata": {},
   "outputs": [],
   "source": [
    "nest_asyncio.apply()\n",
    "DATA_PATH = \"./data/comments_sample.json\"\n",
    "GT_PATH = \"./data/amy_gt.json\"\n",
    "\n",
    "PROMPT_VER = 2\n",
    "N_ITER = 10 ## 50, 100\n",
    "THRESHOLD = 0.7\n",
    "EMBEDDING_MODEL_ID = \"nlpai-lab/KoE5\" ## \"dragonkue/bge-m3-ko, \"dragonkue/bge-m3-ko\""
   ]
  },
  {
   "cell_type": "code",
   "execution_count": 3,
   "metadata": {},
   "outputs": [],
   "source": [
    "if PROMPT_VER == 1:\n",
    "    from src.prompt_processor import generate_vision_prompt, generate_workstyle_prompt, generate_summary_prompt\n",
    "elif PROMPT_VER == 2:\n",
    "    from src.prompt_processor_v2 import generate_vision_prompt, generate_workstyle_prompt, generate_summary_prompt"
   ]
  },
  {
   "cell_type": "code",
   "execution_count": 4,
   "metadata": {},
   "outputs": [],
   "source": [
    "with open(DATA_PATH, 'r', encoding='utf-8') as file:\n",
    "    hr_data_dict = json.load(file)\n",
    "\n",
    "with open(GT_PATH, 'r', encoding=\"utf-8\") as file:\n",
    "    gt_data_dict = json.load(file)"
   ]
  },
  {
   "cell_type": "code",
   "execution_count": 5,
   "metadata": {},
   "outputs": [
    {
     "data": {
      "text/plain": [
       "{'visionResult': {'company': {'keyWord': {'혁신': 5.0,\n",
       "    '도전': 5.0,\n",
       "    '사회공헌': 3.2,\n",
       "    '즐거움': 3.5,\n",
       "    '창조': 5.0,\n",
       "    '전문성': 3.7}},\n",
       "  'compute': {'keyWord': {'문제해결': 0.0,\n",
       "    '상생': 2.5,\n",
       "    '혁신': 3.64,\n",
       "    '사회공헌': 1.67,\n",
       "    '고객': 2.0,\n",
       "    '즐거움': 2.22,\n",
       "    '창조': 5.0,\n",
       "    '성장': 3.08,\n",
       "    '인재': 3.25,\n",
       "    '소통': 2.31,\n",
       "    '성과': 3.08,\n",
       "    '최고지향': 3.13,\n",
       "    '도전': 3.85,\n",
       "    '신속성': 1.92,\n",
       "    '열정': 2.5,\n",
       "    '전문성': 1.36}}},\n",
       " 'workstyleResult': {'company': {'keyWord': {'촉진자형': 5.0,\n",
       "    '분석형': 5.0,\n",
       "    '조력자형': 5.0,\n",
       "    '논리형': 5.0,\n",
       "    '협력형': 5.0,\n",
       "    '겸손형': 5.0},\n",
       "   'totalScore': 30.0},\n",
       "  'compute': {'keyWord': {'촉진자형': 2.14,\n",
       "    '분석형': 2.6,\n",
       "    '조력자형': 1.88,\n",
       "    '논리형': 2.22,\n",
       "    '협력형': 3.08,\n",
       "    '겸손형': 2.14},\n",
       "   'totalScore': 14.06},\n",
       "  'rate': 0.0},\n",
       " 'summaryResult': {'additionalInformation': {'조기 퇴사 가능성': '보통',\n",
       "   '입사 후 적응 기간': '짧음',\n",
       "   '채용 권장 수준': '짧음'},\n",
       "  'fued': ['과몰입형'],\n",
       "  'recruitentQuestions': {'5) 사고방식이 기업 비전,가치관에 부합하는가?': '보통이다',\n",
       "   '2) 타 팀, 타 구성원과의 원만한 협업을 기대할 수 있는가?': '아니다',\n",
       "   '3) 경영진, 상급자와의 원활한 소통을 기대할 수 있는가?': '보통이다',\n",
       "   '4) 기업이 추구하는 일하는 방식과 부합하는가?': '아니다',\n",
       "   '1) 구성원들과 원활한 소통이 가능한가?': '그렇다'},\n",
       "  'turnOverFactors': ['소통관계'],\n",
       "  'retentionFactors': [],\n",
       "  'visionScore': 34.92125971140351,\n",
       "  'workStyleScore': 23.433333333333337,\n",
       "  'culturefitScore': 69,\n",
       "  'rightPeopleFitScore': 80,\n",
       "  'fitGrade': '검토필요',\n",
       "  'calCulturefit': {'visionPercent': 50,\n",
       "   'workStylePercent': 50,\n",
       "   'highCultureScore': 85,\n",
       "   'middleCultureScore': 75}}}"
      ]
     },
     "execution_count": 5,
     "metadata": {},
     "output_type": "execute_result"
    }
   ],
   "source": [
    "hr_data_dict"
   ]
  },
  {
   "cell_type": "code",
   "execution_count": 6,
   "metadata": {},
   "outputs": [],
   "source": [
    "processed_data_summary = translate_and_convert_to_string(hr_data_dict['summaryResult'])\n",
    "vision_data = process_vision_result(hr_data_dict['visionResult'], hr_data_dict['summaryResult'])\n",
    "workstyle_data = extract_workstyle_info(hr_data_dict['workstyleResult'], hr_data_dict['summaryResult'])"
   ]
  },
  {
   "cell_type": "code",
   "execution_count": 7,
   "metadata": {},
   "outputs": [],
   "source": [
    "vision_prompt = generate_vision_prompt(vision_data)\n",
    "workstyle_prompt = generate_workstyle_prompt(workstyle_data)\n",
    "summary_prompt = generate_summary_prompt(processed_data_summary)"
   ]
  },
  {
   "cell_type": "code",
   "execution_count": 8,
   "metadata": {},
   "outputs": [],
   "source": [
    "async def generate_comments(prompts, num_samples=3):\n",
    "    results = []\n",
    "    for i in range(num_samples):\n",
    "        vision_comment, workstyle_comment, summary_comment = await asyncio.gather(\n",
    "            chatgpt_response(prompts[\"vision_prompt\"]),\n",
    "            chatgpt_response(prompts[\"workstyle_prompt\"]),\n",
    "            chatgpt_response(prompts[\"summary_prompt\"]),\n",
    "        )\n",
    "        results.append({\n",
    "            \"vision_comment\": vision_comment,\n",
    "            \"workstyle_comment\": workstyle_comment,\n",
    "            \"summary_comment\": summary_comment\n",
    "        })\n",
    "    return results"
   ]
  },
  {
   "cell_type": "code",
   "execution_count": 9,
   "metadata": {},
   "outputs": [],
   "source": [
    "prompts = {\n",
    "    \"vision_prompt\": generate_vision_prompt(vision_data),\n",
    "    \"workstyle_prompt\": generate_workstyle_prompt(workstyle_data),\n",
    "    \"summary_prompt\": generate_summary_prompt(processed_data_summary)\n",
    "}"
   ]
  },
  {
   "cell_type": "code",
   "execution_count": 10,
   "metadata": {},
   "outputs": [],
   "source": [
    "loop = asyncio.get_event_loop()\n",
    "comments = loop.run_until_complete(generate_comments(prompts, num_samples=N_ITER))"
   ]
  },
  {
   "cell_type": "code",
   "execution_count": 11,
   "metadata": {},
   "outputs": [],
   "source": [
    "df = pd.DataFrame(comments)\n",
    "\n",
    "os.makedirs('./result', exist_ok=True)\n",
    "df.to_csv(f\"./result/comments_{N_ITER}.csv\", index=False)"
   ]
  },
  {
   "cell_type": "code",
   "execution_count": 12,
   "metadata": {},
   "outputs": [
    {
     "name": "stdout",
     "output_type": "stream",
     "text": [
      "GT summary   : 피검사자는 기업의 비전과 가치관에 높은 수준으로 정렬되어 있으며, 혁신성과 비전과의 높은 정렬을 가지고 있는 것으로 평가됩니다. 하지만, 작업 스타일과 기업의 평균적 기준에서 일부 부족한 상황이 상향 인재로 평가됩니다. 다만, 이문화성 영역에서 개선이 필요하다는 점이 도출되어, 팀 구성 및 조직 특성상 잠재적인 문제 발생 가능성을 미리 점검할 필요가 있습니다.\n",
      "PRED summary : 피검사자는 입사 후 적응 기간이 짧아 빠르게 업무에 적응할 수 있을 것으로 보이나, 타 팀 및 구성원과의 협업에서 어려움을 겪을 가능성이 높습니다. 경영진 및 상급자와의 소통은 보통 수준이며, 기업의 일하는 방식과는 부합하지 않는 경향이 있습니다. 구성원들과의 소통은 원활하나, 소통 관계에서 이직 스트레스 요인이 존재합니다. 과몰입형 위험 성향이 감지되어 우려되며, 갈등 유발 요인을 확인하라. 종합적으로, 조기 퇴사 가능성은 보통 수준입니다.\n"
     ]
    }
   ],
   "source": [
    "print(f\"GT summary   : {gt_data_dict['summary_comment']}\")\n",
    "print(f\"PRED summary : {df.iloc[0]['summary_comment']}\")"
   ]
  },
  {
   "cell_type": "code",
   "execution_count": 13,
   "metadata": {},
   "outputs": [
    {
     "name": "stdout",
     "output_type": "stream",
     "text": [
      "GT vision   : 피검사자는 기업이 중점적으로 추구하는 비전 요소 중 사회공헌, 창조, 고객 중심, 그리고 혁신에서 기업의 기대치와 높은 수준으로 정렬되어 있습니다. 또한 열정, 성장, 소통, 성실, 존중 등 다른 영역에서 기업의 기대치를 충족하는 높은 인재상을 보이고 있습니다. 다만, '최고지향' 및 '인식' 와 관련된 점수는 상대적으로 크게 나타납니다. 전반적으로 기업과의 가치관 정렬이 우수하며 평가됩니다. 결론적으로, 피검사자는 기업 비전과 높은 적합성을 보유하고 있습니다.\n",
      "PRED vision : 피검사자는 기업의 핵심 비전 키워드인 '창조'에서 기업과 완벽하게 일치하여 긍정적인 평가를 받을 수 있습니다. 그러나 '도전'과 '혁신'에서는 기업의 기대치에 비해 다소 낮은 점수를 보이고 있어, 이 부분에서의 추가적인 발전이 필요할 것으로 보입니다. 특히 '문제해결'에서는 기업의 기대치와 큰 차이를 보이고 있어 우려가 됩니다. 반면, 피검사자는 '사회공헌'에서 기업의 기대치를 충족하지 못하지만, '창조'에서의 높은 점수는 긍정적입니다. 결론적으로, 피검사자와 기업 간 비전 fit은 검토가 필요합니다.\n"
     ]
    }
   ],
   "source": [
    "print(f\"GT vision   : {gt_data_dict['vision_comment']}\")\n",
    "print(f\"PRED vision : {df.iloc[0]['vision_comment']}\")"
   ]
  },
  {
   "cell_type": "code",
   "execution_count": 14,
   "metadata": {},
   "outputs": [
    {
     "name": "stdout",
     "output_type": "stream",
     "text": [
      "GT workstyle   : 피검사자는 혁신성, 친화성, 유니크성, 스피드형 부문에서 피검사자는 기업의 비전과 높은 수준으로 정렬된 모습을 보입니다. 또한 성과, 도전, 관계성 영역에서는 평균 수준에 해당되는 비전을 보여주고 있습니다. 반면, 논리성, 신뢰형, 그리고 이문화성의 경우 기업의 비전과의 일부 차이를 보이는 것으로 보입니다. 전반적으로, 피검사자는 기업의 작업 스타일 상황 fit 은 평균적인 수준으로 평가됩니다.\n",
      "PRED workstyle : 피검사자는 기업의 촉진자형, 분석형, 조력자형, 논리형, 협력형, 겸손형 업무 스타일과 비교했을 때 전반적으로 낮은 수준을 보이고 있습니다. 특히 조력자형과 논리형에서 기업의 기대치와 차이가 있으며, 협력형에서는 상대적으로 조금 더 높은 점수를 보이지만 여전히 기업의 기대에 미치지 못하고 있습니다. 이러한 차이는 피검사자가 기업의 업무 스타일에 적응하는 데 있어 추가적인 검토가 필요함을 시사합니다. 피검사자와 기업 간 업무 성향 fit은 검토 필요입니다.\n"
     ]
    }
   ],
   "source": [
    "print(f\"GT workstyle   : {gt_data_dict['workstyle_comment']}\")\n",
    "print(f\"PRED workstyle : {df.iloc[0]['workstyle_comment']}\")"
   ]
  }
 ],
 "metadata": {
  "kernelspec": {
   "display_name": "Python 3",
   "language": "python",
   "name": "python3"
  },
  "language_info": {
   "codemirror_mode": {
    "name": "ipython",
    "version": 3
   },
   "file_extension": ".py",
   "mimetype": "text/x-python",
   "name": "python",
   "nbconvert_exporter": "python",
   "pygments_lexer": "ipython3",
   "version": "3.10.12"
  }
 },
 "nbformat": 4,
 "nbformat_minor": 2
}
