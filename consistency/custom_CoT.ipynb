{
 "cells": [
  {
   "cell_type": "code",
   "execution_count": 1,
   "metadata": {},
   "outputs": [],
   "source": [
    "import os\n",
    "import json\n",
    "import openai\n",
    "import numpy as np\n",
    "import pandas as pd\n",
    "import matplotlib.pyplot as plt\n",
    "\n",
    "from sklearn.manifold import TSNE\n",
    "from sklearn.metrics.pairwise import cosine_similarity\n",
    "\n",
    "from dotenv import load_dotenv\n",
    "load_dotenv('/home/pervinco/LLM-tutorials/keys.env')\n",
    "openai_api_key = os.getenv('GRAVY_LAB_OPENAI')\n",
    "\n",
    "from src.data_processor import translate_and_convert_to_string, process_vision_result, extract_workstyle_info"
   ]
  },
  {
   "cell_type": "code",
   "execution_count": 2,
   "metadata": {},
   "outputs": [],
   "source": [
    "n_iter = 100\n",
    "temperature = 0.1\n",
    "gt_path = \"./data/amy_gt.json\"\n",
    "data_path = \"./data/amy_culture_fit.json\"\n",
    "\n",
    "output_dir = \"./result\"\n",
    "csv_file_name = f\"CoT_Vision_{n_iter}times.csv\""
   ]
  },
  {
   "cell_type": "code",
   "execution_count": 3,
   "metadata": {},
   "outputs": [],
   "source": [
    "client = openai.OpenAI(api_key=openai_api_key)"
   ]
  },
  {
   "cell_type": "code",
   "execution_count": 4,
   "metadata": {},
   "outputs": [],
   "source": [
    "with open(data_path, 'r', encoding='utf-8') as file:\n",
    "    hr_data_dict = json.load(file)\n",
    "\n",
    "with open(data_path, 'r', encoding=\"utf-8\") as file:\n",
    "    gt_data_dict = json.load(file)"
   ]
  },
  {
   "cell_type": "code",
   "execution_count": 5,
   "metadata": {},
   "outputs": [],
   "source": [
    "processed_data_summary = translate_and_convert_to_string(hr_data_dict['summaryResult'])\n",
    "vision_data = process_vision_result(hr_data_dict['visionResult'], hr_data_dict['summaryResult'])\n",
    "workstyle_data = extract_workstyle_info(hr_data_dict['workstyleResult'], hr_data_dict['summaryResult'])"
   ]
  },
  {
   "cell_type": "code",
   "execution_count": 6,
   "metadata": {},
   "outputs": [
    {
     "name": "stdout",
     "output_type": "stream",
     "text": [
      "\n",
      "채용 권장 수준, 입사 후 적응 기간, 조기 퇴사 가능성 : \n",
      "조기 퇴사 가능성: 낮음\n",
      "입사 후 적응 기간: 보통\n",
      "채용 권장 수준: 보통\n",
      "\n",
      "검사 항목별 결과 : \n",
      "5) 사고방식이 기업 비전,가치관에 부합하는가?: 매우 그렇다\n",
      "2) 타 팀, 타 구성원과의 원만한 협업을 기대할 수 있는가?: 그렇다\n",
      "3) 경영진, 상급자와의 원활한 소통을 기대할 수 있는가?: 그렇다\n",
      "4) 기업이 추구하는 일하는 방식과 부합하는가?: 매우 그렇다\n",
      "1) 구성원들과 원활한 소통이 가능한가?: 그렇다\n",
      "\n",
      "이직 스트레스 요인 : \n",
      "공정인사\n",
      "\n",
      "위험 성향 : 오만형\n"
     ]
    }
   ],
   "source": [
    "print(processed_data_summary)"
   ]
  },
  {
   "cell_type": "code",
   "execution_count": 7,
   "metadata": {},
   "outputs": [],
   "source": [
    "vision_prompt = \"\"\"\n",
    "주어진 데이터는 기업 비전과 피검사자의 비전 점수를 기반으로 분석한 결과입니다. 다음은 분석 단계입니다:\n",
    "\n",
    "1. **기업의 비전 상위 3개 선별**:\n",
    "   기업의 비전에서 점수가 높은 상위 3개의 키워드를 선택합니다. 예를 들어, [\"전문성\", \"사회공헌\", \"성과\"]와 같이 구성됩니다.\n",
    "\n",
    "2. **피검사자의 비전 상위 3개 선별**:\n",
    "   피검사자의 비전에서 점수가 높은 상위 3개의 키워드를 선택합니다. 예를 들어, [\"창조\", \"열정\", \"혁신\"]와 같이 구성됩니다.\n",
    "\n",
    "3. **동일 키워드 점수 차이 분석**:\n",
    "   기업과 피검사자 상위 3개 키워드 중 동일한 키워드가 있을 경우, 두 점수의 차이를 계산합니다. 이를 \"equal_top3\"라 부릅니다. 차이가 큰 경우 우려를 표현하며, 차이가 작은 경우 긍정적인 평가를 제공합니다. 예를 들어:\n",
    "   - \"전문성\" (기업: 4.6, 피검사자: 0.38) → 큰 차이로 인해 우려 사항.\n",
    "   - \"사회공헌\" (기업: 4.2, 피검사자: 4.17) → 매우 유사함으로 긍정 평가.\n",
    "\n",
    "4. **일치하지 않는 키워드 분석**:\n",
    "   기업 상위 3개 키워드와 일치하지 않는 피검사자의 상위 키워드를 \"noeq_top3\"로 구분합니다. 이를 통해 피검사자가 독자적으로 높은 관심을 가진 비전을 파악합니다. 예를 들어, \"창조\", \"열정\".\n",
    "\n",
    "5. **결과 서술**:\n",
    "   - 기업이 중요시하는 비전과 피검사자가 중요시하는 비전을 각각 서술합니다.\n",
    "   - \"equal_top3\"에서 차이가 1.8 이상인 키워드에 대해 우려를 표현하되, 부정적인 내용은 피합니다.\n",
    "   - \"equal_top3\"에서 차이가 0.5 이하인 경우 긍정적으로 표현합니다.\n",
    "   - 피검사자의 점수가 기업보다 높은 경우, 강한 긍정과 추가적 가치 창출 가능성을 언급합니다.\n",
    "\n",
    "6. **최종 결과 문장 생성**:\n",
    "   300자 이내의 문장으로 피검사자가 기업 비전과 어느 정도 정렬되어 있는지를 서술합니다. \n",
    "   반드시 존댓말을 사용하며, 피검사자가 기업에 적합한지 겸손한 어조로 표현합니다. \n",
    "   문장의 끝부분에는 \"전반적으로 피검사자와 기업간 비전 fit은 [높음, 보통, 낮은] 편입니다.\" 로 마무리 지어 주세요.\n",
    "   또한 아래 예시를 참고하여 작성합니다:\n",
    "\n",
    "   \"기업은 전문성, 성과, 사회공헌을 중요시하며, 피검사자는 창조, 열정, 혁신에 높은 가치를 두고 있습니다. 피검사자는 사회공헌에 대한 관심이 기업과 유사하며, 이는 긍정적으로 평가됩니다. 그러나 전문성에 대한 피검사자의 관심이 상대적으로 낮아 우려가 있을 수 있습니다. 반면, 피검사자는 성과에 대한 관심이 기업보다 낮지만, 창조와 열정에서 높은 점수를 보이며 기업에 추가적인 가치를 제공할 가능성이 있습니다. 전반적으로 피검사자와 기업간 비전 fit은 보통입니다.\"\n",
    "\"\"\""
   ]
  },
  {
   "cell_type": "code",
   "execution_count": 8,
   "metadata": {},
   "outputs": [],
   "source": [
    "user_vision_input = f\"\"\"\n",
    "기업의 비전 데이터: {hr_data_dict[\"visionResult\"]['company']}\n",
    "피검사자의 비전 데이터: {hr_data_dict[\"visionResult\"]['compute']}\n",
    "\"\"\""
   ]
  },
  {
   "cell_type": "code",
   "execution_count": 9,
   "metadata": {},
   "outputs": [],
   "source": [
    "def run_openai_api(n_iter, vision_prompt, user_vision_input, temperature):\n",
    "    results = []\n",
    "    for i in range(n_iter):\n",
    "        completion = client.chat.completions.create(\n",
    "            model=\"gpt-4o\",\n",
    "            messages=[\n",
    "                {\"role\": \"system\", \"content\": vision_prompt},\n",
    "                {\"role\": \"user\", \"content\": user_vision_input}\n",
    "            ],\n",
    "            temperature=temperature\n",
    "        )\n",
    "        response_content = completion.choices[0].message.content\n",
    "        results.append({\n",
    "            \"iteration\": i + 1,\n",
    "            \"response\": response_content\n",
    "        })\n",
    "    return results"
   ]
  },
  {
   "cell_type": "code",
   "execution_count": 10,
   "metadata": {},
   "outputs": [
    {
     "name": "stdout",
     "output_type": "stream",
     "text": [
      "company top3 : 전문성:4.6, 성과:4.2, 사회공헌:4.2\n",
      "\n",
      "compute top3 : 창조:5.0, 열정:5.0, 혁신:4.58\n",
      "\n",
      "compnay remain : 상생:4.0, 최고지향:3.6, 고객:3.0, 성장:3.0\n",
      "\n",
      "compute remain : 신속성:4.23, 사회공헌:4.17, 고객:4.0, 성장:3.85, 소통:3.75, 성과:3.33, 도전:3.21, 상생:3.13, 최고지향:2.78, 문제해결:2.5, 인재:2.27, 즐거움:1.5, 전문성:0.38\n",
      "\n",
      "fianl eval : 보통\n"
     ]
    }
   ],
   "source": [
    "print(f\"company top3 : {vision_data['company_top_keywords']}\\n\")\n",
    "print(f\"compute top3 : {vision_data['compute_top_keywords']}\\n\")\n",
    "\n",
    "print(f\"compnay remain : {vision_data['company_remaining_keywords']}\\n\")\n",
    "print(f\"compute remain : {vision_data['compute_remaining_keywords']}\\n\")\n",
    "\n",
    "print(f\"fianl eval : {vision_data['compute_vision_total_evalation']}\")"
   ]
  },
  {
   "cell_type": "code",
   "execution_count": 11,
   "metadata": {},
   "outputs": [],
   "source": [
    "results = run_openai_api(n_iter, vision_prompt, user_vision_input, temperature)"
   ]
  },
  {
   "cell_type": "code",
   "execution_count": 12,
   "metadata": {},
   "outputs": [
    {
     "name": "stdout",
     "output_type": "stream",
     "text": [
      "Results saved to ./result/CoT_Vision_100times.csv\n"
     ]
    }
   ],
   "source": [
    "df = pd.DataFrame(results)\n",
    "df.to_csv(os.path.join(output_dir, csv_file_name), index=False, encoding='utf-8-sig')\n",
    "print(f\"Results saved to {os.path.join(output_dir, csv_file_name)}\")"
   ]
  },
  {
   "cell_type": "code",
   "execution_count": null,
   "metadata": {},
   "outputs": [],
   "source": []
  },
  {
   "cell_type": "code",
   "execution_count": 13,
   "metadata": {},
   "outputs": [],
   "source": [
    "embed_model = \"text-embedding-3-large\"\n",
    "df = pd.read_csv(f\"{output_dir}/{csv_file_name}\")\n",
    "responses = df[\"response\"].tolist()"
   ]
  },
  {
   "cell_type": "code",
   "execution_count": 14,
   "metadata": {},
   "outputs": [],
   "source": [
    "def calculate_embedding_similarity_and_embeddings(responses):\n",
    "    embeddings = []\n",
    "    for response in responses:\n",
    "        embedding_response = client.embeddings.create(\n",
    "            input=response,\n",
    "            model=\"text-embedding-3-small\"\n",
    "        )\n",
    "        embeddings.append(embedding_response.data[0].embedding)\n",
    "\n",
    "    embeddings = np.array(embeddings)  # Convert list to NumPy array\n",
    "    similarity_matrix = cosine_similarity(embeddings)\n",
    "    mean_similarity = similarity_matrix.mean()\n",
    "    \n",
    "    return mean_similarity, embeddings"
   ]
  },
  {
   "cell_type": "code",
   "execution_count": 15,
   "metadata": {},
   "outputs": [],
   "source": [
    "mean_similarity, embeddings = calculate_embedding_similarity_and_embeddings(df[\"response\"].tolist())"
   ]
  },
  {
   "cell_type": "code",
   "execution_count": 16,
   "metadata": {},
   "outputs": [],
   "source": [
    "def lexical_overlap(response1, response2):\n",
    "    words1 = set(response1.split())\n",
    "    words2 = set(response2.split())\n",
    "    return len(words1 & words2) / len(words1 | words2)"
   ]
  },
  {
   "cell_type": "code",
   "execution_count": 17,
   "metadata": {},
   "outputs": [],
   "source": [
    "lexical_similarities = [\n",
    "    lexical_overlap(responses[i], responses[j])\n",
    "    for i in range(len(responses)) for j in range(i + 1, len(responses))\n",
    "]\n",
    "mean_lexical_similarity = sum(lexical_similarities) / len(lexical_similarities)"
   ]
  },
  {
   "cell_type": "code",
   "execution_count": 18,
   "metadata": {},
   "outputs": [
    {
     "name": "stdout",
     "output_type": "stream",
     "text": [
      "Semantic Similarity (mean): 1.00\n",
      "Lexical Overlap (mean): 0.96\n"
     ]
    }
   ],
   "source": [
    "print(f\"Semantic Similarity (mean): {mean_similarity:.2f}\")\n",
    "print(f\"Lexical Overlap (mean): {mean_lexical_similarity:.2f}\")"
   ]
  },
  {
   "cell_type": "code",
   "execution_count": null,
   "metadata": {},
   "outputs": [],
   "source": []
  },
  {
   "cell_type": "code",
   "execution_count": 23,
   "metadata": {},
   "outputs": [
    {
     "data": {
      "image/png": "[encoded data removed]",
      "text/plain": [
       "<Figure size 800x600 with 1 Axes>"
      ]
     },
     "metadata": {},
     "output_type": "display_data"
    }
   ],
   "source": [
    "from scipy.stats import norm\n",
    "from sklearn.preprocessing import StandardScaler\n",
    "\n",
    "# 1. 임베딩 벡터 정규화 (평균 0, 분산 1)\n",
    "scaler = StandardScaler()\n",
    "normalized_embeddings = scaler.fit_transform(embeddings)\n",
    "\n",
    "# 2. 특정 축으로 1D 투영 (예: 첫 번째 차원)\n",
    "projected_values = normalized_embeddings[:, 0]  # 첫 번째 차원 선택\n",
    "\n",
    "# 3. 히스토그램 계산\n",
    "hist, bins = np.histogram(projected_values, bins=30, density=True)\n",
    "\n",
    "# 4. 정규분포 곡선 계산\n",
    "x = np.linspace(projected_values.min(), projected_values.max(), 100)\n",
    "pdf = norm.pdf(x, loc=0, scale=1)  # 평균 0, 표준편차 1인 정규분포\n",
    "\n",
    "# 5. 시각화\n",
    "plt.figure(figsize=(8, 6))\n",
    "\n",
    "# 히스토그램\n",
    "plt.hist(projected_values, bins=30, density=True, alpha=0.6, color='blue', label='Embedding Distribution')\n",
    "\n",
    "# 정규분포 곡선\n",
    "plt.plot(x, pdf, 'r--', label='Standard Normal Distribution')\n",
    "\n",
    "# 그래프 설정\n",
    "plt.title('Embedding Vectors Projected on Standard Normal Distribution')\n",
    "plt.xlabel('Projected Value')\n",
    "plt.ylabel('Density')\n",
    "plt.legend()\n",
    "plt.grid(True)\n",
    "\n",
    "# 결과 저장\n",
    "output_dir = \"output_directory\"  # 필요한 경로로 변경\n",
    "os.makedirs(output_dir, exist_ok=True)\n",
    "plt.savefig(os.path.join(output_dir, \"embedding_normal_distribution.png\"))\n",
    "plt.show()"
   ]
  },
  {
   "cell_type": "code",
   "execution_count": null,
   "metadata": {},
   "outputs": [],
   "source": []
  }
 ],
 "metadata": {
  "kernelspec": {
   "display_name": "Python 3",
   "language": "python",
   "name": "python3"
  },
  "language_info": {
   "codemirror_mode": {
    "name": "ipython",
    "version": 3
   },
   "file_extension": ".py",
   "mimetype": "text/x-python",
   "name": "python",
   "nbconvert_exporter": "python",
   "pygments_lexer": "ipython3",
   "version": "3.10.12"
  }
 },
 "nbformat": 4,
 "nbformat_minor": 2
}
