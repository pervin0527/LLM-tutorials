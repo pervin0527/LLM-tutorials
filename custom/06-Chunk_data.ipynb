{
 "cells": [
  {
   "cell_type": "code",
   "execution_count": null,
   "metadata": {},
   "outputs": [],
   "source": [
    "import os\n",
    "import pandas as pd\n",
    "from openai import OpenAI\n",
    "\n",
    "from dotenv import load_dotenv\n",
    "load_dotenv(\"../keys.env\")\n",
    "api_key = os.getenv(\"OPENAI_API_KEY\")"
   ]
  },
  {
   "cell_type": "code",
   "execution_count": null,
   "metadata": {},
   "outputs": [],
   "source": [
    "df6 = pd.read_csv(\"./data/token.csv\")\n",
    "df6['len'] = df6['contents'].str.len()"
   ]
  },
  {
   "cell_type": "code",
   "execution_count": null,
   "metadata": {},
   "outputs": [],
   "source": [
    "df6"
   ]
  },
  {
   "cell_type": "code",
   "execution_count": null,
   "metadata": {},
   "outputs": [],
   "source": [
    "llm = OpenAI(api_key=api_key)"
   ]
  },
  {
   "cell_type": "code",
   "execution_count": null,
   "metadata": {},
   "outputs": [],
   "source": [
    "def generate_training_data(corpus, openai):\n",
    "    evolving = f\"나는 너가 질문 작성자로 활동하기를 원해. 너의 목표는 주어진 문단을 활용하여 AI가 학습할 질문을 만드는거야. 질문은 합리적이어야 하고, 일상에서 나올 수 있는 질문이어야하며, 인간이 이해하고 응답할 수 있어야 해.\\n\\\n",
    "        그리고 답변은, 근거를 들어서 논리적으로 답변을 해야해. 또한,질문과 답변을 다섯개를 만들어줘.\\n\\\n",
    "        최대한 질문이 장황해지지 않도록 노력해야 하며, 추론이나 일상생활에서 생길 수 있는 문제들을 담아야해. 무조건 한국어로 작성해줘. 생성된 질문에는 질문이나 답변에 숫자 없이 '#질문:'이라는 단어로 시작해야하고, 생성된 답변에는 '#답변:'이라는 단어로 시작해야해.\\n\\\n",
    "        주어진 문단: {corpus}\\n\\n\"\n",
    "    \n",
    "    chat_completion = openai.chat.completions.create(\n",
    "        model='gpt-4o',\n",
    "        messages=[{\"role\":\"user\", \"content\": evolving}],\n",
    "        temperature=0.7,\n",
    "        max_tokens=8192)\n",
    "    \n",
    "    return chat_completion.choices[0].message.content"
   ]
  },
  {
   "cell_type": "code",
   "execution_count": null,
   "metadata": {},
   "outputs": [],
   "source": [
    "example1 = generate_training_data(df6['contents'][1], llm)"
   ]
  },
  {
   "cell_type": "code",
   "execution_count": null,
   "metadata": {},
   "outputs": [],
   "source": [
    "example1"
   ]
  },
  {
   "cell_type": "code",
   "execution_count": null,
   "metadata": {},
   "outputs": [],
   "source": [
    "len(example1.lstrip().split('#'))"
   ]
  },
  {
   "cell_type": "code",
   "execution_count": null,
   "metadata": {},
   "outputs": [],
   "source": []
  },
  {
   "cell_type": "code",
   "execution_count": null,
   "metadata": {},
   "outputs": [],
   "source": [
    "## 반환값에 \"질문\"과 \"답변\"을 제거함.\n",
    "\n",
    "def remove_str(tmp_str):\n",
    "    if '질문:' in tmp_str:\n",
    "        tmp_str= tmp_str[3:]\n",
    "        tmp_str=tmp_str.lstrip()\n",
    "        tmp_str=tmp_str.rstrip()\n",
    "    elif '답변:' in tmp_str:\n",
    "        tmp_str= tmp_str[3:]\n",
    "        tmp_str=tmp_str.lstrip()\n",
    "        tmp_str=tmp_str.rstrip()\n",
    "    elif '질문1:' in tmp_str:\n",
    "        tmp_str= tmp_str[4:]\n",
    "        tmp_str=tmp_str.lstrip()\n",
    "        tmp_str=tmp_str.rstrip()\n",
    "    elif '답변1:' in tmp_str:\n",
    "        tmp_str= tmp_str[4:]\n",
    "        tmp_str=tmp_str.lstrip()\n",
    "        tmp_str=tmp_str.rstrip()\n",
    "    elif '질문2:' in tmp_str:\n",
    "        tmp_str= tmp_str[4:]\n",
    "        tmp_str=tmp_str.lstrip()\n",
    "        tmp_str=tmp_str.rstrip()\n",
    "    elif '답변2:' in tmp_str:\n",
    "        tmp_str= tmp_str[4:]\n",
    "        tmp_str=tmp_str.lstrip()\n",
    "        tmp_str=tmp_str.rstrip()\n",
    "    elif '질문3:' in tmp_str:\n",
    "        tmp_str= tmp_str[4:]\n",
    "        tmp_str=tmp_str.lstrip()\n",
    "        tmp_str=tmp_str.rstrip()\n",
    "    elif '답변3:' in tmp_str:\n",
    "        tmp_str= tmp_str[4:]\n",
    "        tmp_str=tmp_str.lstrip()\n",
    "        tmp_str=tmp_str.rstrip()\n",
    "    elif '질문4:' in tmp_str:\n",
    "        tmp_str= tmp_str[4:]\n",
    "        tmp_str=tmp_str.lstrip()\n",
    "        tmp_str=tmp_str.rstrip()\n",
    "    elif '답변4:' in tmp_str:\n",
    "        tmp_str= tmp_str[4:]\n",
    "        tmp_str=tmp_str.lstrip()\n",
    "        tmp_str=tmp_str.rstrip()\n",
    "    elif '질문5:' in tmp_str:\n",
    "        tmp_str= tmp_str[4:]\n",
    "        tmp_str=tmp_str.lstrip()\n",
    "        tmp_str=tmp_str.rstrip()\n",
    "    elif '답변5:' in tmp_str:\n",
    "        tmp_str= tmp_str[4:]\n",
    "        tmp_str=tmp_str.lstrip()\n",
    "        tmp_str=tmp_str.rstrip()\n",
    "    else: \n",
    "        print('############## warning!!!!!!!!!!! ##############')\n",
    "        print(tmp_str)\n",
    "        print('#################################################')\n",
    "        tmp_str=False\n",
    "\n",
    "    return tmp_str"
   ]
  },
  {
   "cell_type": "code",
   "execution_count": null,
   "metadata": {},
   "outputs": [],
   "source": [
    "from tqdm import tqdm \n",
    "\n",
    "q_list=[]\n",
    "a_list=[]\n",
    "\n",
    "for i in tqdm(range(len(df6))):\n",
    "    tmp=True\n",
    "    chunk=df6['contents'][i]\n",
    "\n",
    "    while tmp:\n",
    "        res= generate_training_data(chunk, llm)\n",
    "\n",
    "        res_lst=res.lstrip().split('#')\n",
    "\n",
    "        if (len(res_lst)==11) and '질문:' in res_lst[1] and '답변:' in res_lst[2] and '질문:' in res_lst[3] and '답변:' in res_lst[4] and '질문:' in res_lst[5] and '답변:' in res_lst[6] and \\\n",
    "        '질문:' in res_lst[7] and '답변:' in res_lst[8] and '질문:' in res_lst[9] and '답변:' in res_lst[10]: \n",
    "            q1 = remove_str(res_lst[1])\n",
    "            q2 = remove_str(res_lst[3])\n",
    "            q3 = remove_str(res_lst[5])\n",
    "            q4 = remove_str(res_lst[7])\n",
    "            q5 = remove_str(res_lst[9])\n",
    "\n",
    "            a1 = remove_str(res_lst[2])\n",
    "            a2 = remove_str(res_lst[4])\n",
    "            a3 = remove_str(res_lst[6])\n",
    "            a4 = remove_str(res_lst[8])\n",
    "            a5 = remove_str(res_lst[10])\n",
    "\n",
    "            if q1!=False and q2!=False and q3!=False and q4!=False and q5!=False and a1!=False and a2!=False and a3!=False and a4!=False and a5!=False:\n",
    "                tmp=False\n",
    "                q_list+=[q1,q2,q3,q4,q5]\n",
    "                a_list+=[a1,a2,a3,a4,a5]\n",
    "            else:\n",
    "                print('something wrong!!!')\n",
    "\n",
    "        else:\n",
    "            print(res)\n"
   ]
  },
  {
   "cell_type": "code",
   "execution_count": null,
   "metadata": {},
   "outputs": [],
   "source": []
  },
  {
   "cell_type": "code",
   "execution_count": null,
   "metadata": {},
   "outputs": [],
   "source": [
    "train_df= pd.DataFrame({'question':q_list,'response':a_list})\n",
    "train_df.to_excel('./data/insurance_train.xlsx', index=False)"
   ]
  },
  {
   "cell_type": "code",
   "execution_count": null,
   "metadata": {},
   "outputs": [],
   "source": [
    "## chunk에 대한 정보를 evolving(증강)을 위해 저장함.\n",
    "\n",
    "cor_lst=[]\n",
    "\n",
    "for i in range(len(df6)):\n",
    "    cor_tmp = df6['contents'][i]\n",
    "    cor_lst+=[cor_tmp, cor_tmp, cor_tmp, cor_tmp, cor_tmp]"
   ]
  },
  {
   "cell_type": "code",
   "execution_count": null,
   "metadata": {},
   "outputs": [],
   "source": [
    "train_df['corpus']=cor_lst"
   ]
  },
  {
   "cell_type": "code",
   "execution_count": null,
   "metadata": {},
   "outputs": [],
   "source": [
    "## 질문과 응답으로 구성된 데이터가 구축되었다.\n",
    "train_df.to_excel('./data/insurance_train_corpus.xlsx', index=False)"
   ]
  },
  {
   "cell_type": "code",
   "execution_count": null,
   "metadata": {},
   "outputs": [],
   "source": [
    "eval_df= pd.read_csv('token_short.csv')"
   ]
  },
  {
   "cell_type": "code",
   "execution_count": null,
   "metadata": {},
   "outputs": [],
   "source": [
    "eval_df"
   ]
  },
  {
   "cell_type": "code",
   "execution_count": null,
   "metadata": {},
   "outputs": [],
   "source": []
  },
  {
   "cell_type": "code",
   "execution_count": null,
   "metadata": {},
   "outputs": [],
   "source": [
    "llm = OpenAI(api_key=api_key)\n",
    "\n",
    "def generate_eval_multi(instruction, openai):\n",
    "    evolving= f\"나는 너가 질문 작성자로 활동하기를 원해. 너의 목표는 주어진 문단을 활용하여 AI를 평가하는 질문을 만드는거야. 질문은 합리적이어야 하고, 모델의 성능을 해당 문단기반으로 잘 이해하고 있는지 평가할 수 있어야해.\\n\\\n",
    "        또한, 4개의 선택지가 있는 multiple choice 문제를 생성하는거야.각각 선택지 번호는 'a.','b.','c.','d.'로 나와야 하며, 답변에는 해당선택지를 그대로 작성해야 해야하고 무작위 번호여야해.\\n\\\n",
    "        최대한 질문이 장황해지지 않도록 노력해야 하며, 추론이나 일상생활에서 생길 수 있는 문제들을 담아야해. 무조건 한국어로 두개만 작성해줘. 생성된 질문에는 질문이나 답변에 숫자 없이 '#질문:'이라는 단어로 시작해야하고, 생성된 답변에는 '#답변:'이라는 단어로 시작해야해.\\n\\\n",
    "        주어진 문단: {instruction}\\n\\n\"\n",
    "    \n",
    "    chat_completion = openai.chat.completions.create(\n",
    "        model='gpt-4o',\n",
    "        messages=[{\"role\":\"user\", \"content\": evolving}],\n",
    "        temperature=0.7,\n",
    "        max_tokens=8192)\n",
    "    \n",
    "    return chat_completion.choices[0].message.content"
   ]
  },
  {
   "cell_type": "code",
   "execution_count": null,
   "metadata": {},
   "outputs": [],
   "source": [
    "ex=generate_eval_multi(eval_df['contents'][1], llm)"
   ]
  },
  {
   "cell_type": "code",
   "execution_count": null,
   "metadata": {},
   "outputs": [],
   "source": [
    "print(ex)"
   ]
  },
  {
   "cell_type": "code",
   "execution_count": null,
   "metadata": {},
   "outputs": [],
   "source": [
    "len(ex.split('#'))"
   ]
  },
  {
   "cell_type": "code",
   "execution_count": null,
   "metadata": {},
   "outputs": [],
   "source": [
    "ex.split('#')"
   ]
  },
  {
   "cell_type": "code",
   "execution_count": null,
   "metadata": {},
   "outputs": [],
   "source": [
    "def check_multi_a(instruct):\n",
    "    if 'a.' in instruct or 'b.' in instruct or 'c.' in instruct or 'd.' in instruct:\n",
    "        return True\n",
    "    else:\n",
    "        return False"
   ]
  },
  {
   "cell_type": "code",
   "execution_count": null,
   "metadata": {},
   "outputs": [],
   "source": [
    "q_list=[]\n",
    "a_list=[]\n",
    "\n",
    "\n",
    "for i in tqdm(range(len(eval_df))):\n",
    "    tmp=True\n",
    "    cor= eval_df['contents'][i]\n",
    "    while tmp:\n",
    "        res = generate_eval_multi(cor, llm)\n",
    "\n",
    "        res = res.replace('(a)', 'a.')\n",
    "        res = res.replace('(b)', 'b.')\n",
    "        res = res.replace('(c)', 'c.')\n",
    "        res = res.replace('(d)', 'd.')\n",
    "\n",
    "\n",
    "        res = res.replace('a)', 'a.')\n",
    "        res = res.replace('b)', 'b.')\n",
    "        res = res.replace('c)', 'c.')\n",
    "        res = res.replace('d)', 'd.')\n",
    "\n",
    "\n",
    "        res_lst = res.split('#')\n",
    "\n",
    "\n",
    "        if len(res_lst)==5 and '질문' in res_lst[1] and '답변' in res_lst[2] and '질문' in res_lst[3] and '답변' in res_lst[4] and check_multi_a(res_lst[4]) and check_multi_a(res_lst[2]):\n",
    "\n",
    "            q1 = remove_str(res_lst[1].lstrip().rstrip())\n",
    "            q2 = remove_str(res_lst[3].lstrip().rstrip())\n",
    "            a1 = remove_str(res_lst[2].lstrip().rstrip())\n",
    "            a2 = remove_str(res_lst[4].lstrip().rstrip())\n",
    "            q_list += [q1,q2]\n",
    "            a_list += [a1,a2]\n",
    "            tmp = False\n",
    "\n",
    "        else:\n",
    "            print(res)\n",
    "            "
   ]
  },
  {
   "cell_type": "code",
   "execution_count": null,
   "metadata": {},
   "outputs": [],
   "source": [
    "few_shot_df= pd.DataFrame({'question':q_list,'answer': a_list})\n",
    "few_shot_df.to_excel('./data/few_shot_eval.xlsx',index=False)"
   ]
  }
 ],
 "metadata": {
  "kernelspec": {
   "display_name": "Python 3",
   "language": "python",
   "name": "python3"
  },
  "language_info": {
   "codemirror_mode": {
    "name": "ipython",
    "version": 3
   },
   "file_extension": ".py",
   "mimetype": "text/x-python",
   "name": "python",
   "nbconvert_exporter": "python",
   "pygments_lexer": "ipython3",
   "version": "3.10.12"
  }
 },
 "nbformat": 4,
 "nbformat_minor": 2
}
