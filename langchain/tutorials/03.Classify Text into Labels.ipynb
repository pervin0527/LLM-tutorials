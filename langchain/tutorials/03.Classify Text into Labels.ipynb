{
 "cells": [
  {
   "cell_type": "code",
   "execution_count": 1,
   "metadata": {},
   "outputs": [],
   "source": [
    "import os\n",
    "import getpass\n",
    "\n",
    "from dotenv import load_dotenv\n",
    "load_dotenv(\"../keys.env\")\n",
    "\n",
    "os.environ[\"OPENAI_API_KEY\"] = os.getenv(\"OPENAI_API_KEY\")"
   ]
  },
  {
   "cell_type": "code",
   "execution_count": 2,
   "metadata": {},
   "outputs": [],
   "source": [
    "from langchain.chat_models import init_chat_model\n",
    "\n",
    "## 일반적인 LLM 로드 방법\n",
    "llm = init_chat_model(\"gpt-4o-mini\", model_provider=\"openai\")"
   ]
  },
  {
   "cell_type": "code",
   "execution_count": 3,
   "metadata": {},
   "outputs": [],
   "source": [
    "from pydantic import BaseModel, Field\n",
    "from langchain_openai import ChatOpenAI\n",
    "from langchain_core.prompts import ChatPromptTemplate\n",
    "\n",
    "\n",
    "## 프롬프트 템플릿 정의\n",
    "## 주어진 텍스트에서 원하는 정보를 추출해라. \n",
    "## \"Classification\" function에서 언급된 속성만 추출한다.\n",
    "tagging_prompt = ChatPromptTemplate.from_template(\"\"\"\n",
    "Extract the desired information from the following passage.\n",
    "Only extract the properties mentioned in the 'Classification' function.\n",
    "\n",
    "Passage:\n",
    "{input}\n",
    "\"\"\"\n",
    ")"
   ]
  },
  {
   "cell_type": "code",
   "execution_count": 4,
   "metadata": {},
   "outputs": [],
   "source": [
    "## 스키마 모델.\n",
    "## LLM이 스키마에 정의된 항목과 값을 추론하고 결과로 반환한다.\n",
    "\n",
    "class Classification(BaseModel):\n",
    "    sentiment: str = Field(description=\"The sentiment of the text\") ## 긍정, 부정 감정 : 긍정, 부정, 중립\n",
    "    aggressiveness: int = Field(description=\"How aggressive the text is on a scale from 1 to 10\") ## 공격성 측정 : 1~10\n",
    "    language: str = Field(description=\"The language the text is written in\") ## 사용된 언어"
   ]
  },
  {
   "cell_type": "code",
   "execution_count": 5,
   "metadata": {},
   "outputs": [],
   "source": [
    "## 스키마를 반영하여 LLM이 정해진 출력을 반환하도록 만든다.\n",
    "llm = ChatOpenAI(temperature=0, model=\"gpt-4o-mini\").with_structured_output(Classification)"
   ]
  },
  {
   "cell_type": "code",
   "execution_count": 6,
   "metadata": {},
   "outputs": [
    {
     "data": {
      "text/plain": [
       "Classification(sentiment='negative', aggressiveness=8, language='Korean')"
      ]
     },
     "execution_count": 6,
     "metadata": {},
     "output_type": "execute_result"
    }
   ],
   "source": [
    "inp = \"당신을 만나서 정말 기분이 나쁘다. 우리는 두 번 다시 만나서는 안될 것 같다!!!\"\n",
    "prompt = tagging_prompt.invoke({\"input\": inp})\n",
    "response = llm.invoke(prompt)\n",
    "\n",
    "response"
   ]
  },
  {
   "cell_type": "code",
   "execution_count": null,
   "metadata": {},
   "outputs": [],
   "source": []
  },
  {
   "cell_type": "code",
   "execution_count": 8,
   "metadata": {},
   "outputs": [],
   "source": [
    "import openai"
   ]
  },
  {
   "cell_type": "code",
   "execution_count": 9,
   "metadata": {},
   "outputs": [
    {
     "name": "stdout",
     "output_type": "stream",
     "text": [
      "{\"sentiment\":\"sad\",\"aggressiveness\":5,\"language\":\"spanish\"}\n"
     ]
    }
   ],
   "source": [
    "client = openai.OpenAI(api_key=os.getenv(\"OPENAI_API_KEY\"))\n",
    "\n",
    "functions = [\n",
    "    {\n",
    "        \"name\": \"classify_text\",\n",
    "        \"description\": \"Classify the text into sentiment, aggressiveness and language.\",\n",
    "        \"parameters\": {\n",
    "            \"type\": \"object\",\n",
    "            \"properties\": {\n",
    "                \"sentiment\": {\n",
    "                    \"type\": \"string\",\n",
    "                    \"enum\": [\"happy\", \"neutral\", \"sad\"]\n",
    "                },\n",
    "                \"aggressiveness\": {\n",
    "                    \"type\": \"integer\",\n",
    "                    \"enum\": [1, 2, 3, 4, 5],\n",
    "                    \"description\": \"Higher value means more aggressive\"\n",
    "                },\n",
    "                \"language\": {\n",
    "                    \"type\": \"string\",\n",
    "                    \"enum\": [\"spanish\", \"english\", \"french\", \"german\", \"italian\"]\n",
    "                }\n",
    "            },\n",
    "            \"required\": [\"sentiment\", \"aggressiveness\", \"language\"]\n",
    "        }\n",
    "    }\n",
    "]\n",
    "\n",
    "response = client.chat.completions.create(\n",
    "    model=\"gpt-4o\",\n",
    "    temperature=0,\n",
    "    messages=[\n",
    "        {\"role\": \"system\", \"content\": \"You are a helpful classifier.\"},\n",
    "        {\"role\": \"user\", \"content\": \"Estoy muy enojado con vos! Te voy a dar tu merecido!\"}\n",
    "    ],\n",
    "    functions=functions,\n",
    "    function_call={\"name\": \"classify_text\"}\n",
    ")\n",
    "\n",
    "print(response.choices[0].message.function_call.arguments)\n"
   ]
  },
  {
   "cell_type": "code",
   "execution_count": 10,
   "metadata": {},
   "outputs": [],
   "source": [
    "import os\n",
    "import json\n",
    "import openai\n",
    "\n",
    "## OpenAI API 키 설정\n",
    "client = openai.OpenAI(api_key=os.getenv(\"OPENAI_API_KEY\"))\n",
    "\n",
    "## 두 개의 function 정의\n",
    "## 첫 번째는 텍스트를 분류하는 함수\n",
    "## 두 번째는 텍스트를 요약하는 함수\n",
    "functions = [\n",
    "    {\n",
    "        \"name\": \"classify_text\",\n",
    "        \"description\": \"Classify the text into sentiment, aggressiveness and language.\",\n",
    "        \"parameters\": {\n",
    "            \"type\": \"object\",\n",
    "            \"properties\": {\n",
    "                \"sentiment\": {\n",
    "                    \"type\": \"string\",\n",
    "                    \"enum\": [\"happy\", \"neutral\", \"sad\"]\n",
    "                },\n",
    "                \"aggressiveness\": {\n",
    "                    \"type\": \"integer\",\n",
    "                    \"enum\": [1, 2, 3, 4, 5],\n",
    "                    \"description\": \"Higher value means more aggressive\"\n",
    "                },\n",
    "                \"language\": {\n",
    "                    \"type\": \"string\",\n",
    "                    \"enum\": [\"spanish\", \"english\", \"french\", \"german\", \"italian\"]\n",
    "                }\n",
    "            },\n",
    "            \"required\": [\"sentiment\", \"aggressiveness\", \"language\"]\n",
    "        }\n",
    "    },\n",
    "    {\n",
    "        \"name\": \"summarize_text\",\n",
    "        \"description\": \"Summarize the input text into one short sentence.\",\n",
    "        \"parameters\": {\n",
    "            \"type\": \"object\",\n",
    "            \"properties\": {\n",
    "                \"summary\": {\n",
    "                    \"type\": \"string\",\n",
    "                    \"description\": \"Short summary of the input text.\"\n",
    "                }\n",
    "            },\n",
    "            \"required\": [\"summary\"]\n",
    "        }\n",
    "    }\n",
    "]"
   ]
  },
  {
   "cell_type": "code",
   "execution_count": 11,
   "metadata": {},
   "outputs": [
    {
     "name": "stdout",
     "output_type": "stream",
     "text": [
      "\n",
      "✅ 선택된 함수 이름:\n",
      "classify_text\n",
      "\n",
      "📦 반환된 arguments:\n",
      "{'sentiment': 'sad', 'aggressiveness': 5, 'language': 'spanish'}\n"
     ]
    }
   ],
   "source": [
    "# 테스트할 입력 문장\n",
    "user_input = \"Estoy muy enojado con vos! Te voy a dar tu merecido!\"\n",
    "\n",
    "# Chat 호출 (function_call을 명시하지 않음 = GPT가 선택)\n",
    "response = client.chat.completions.create(\n",
    "    model=\"gpt-4o\",\n",
    "    temperature=0,\n",
    "    messages=[\n",
    "        {\"role\": \"system\", \"content\": \"You are a helpful assistant.\"},\n",
    "        {\"role\": \"user\", \"content\": user_input}\n",
    "    ],\n",
    "    functions=functions\n",
    ")\n",
    "\n",
    "# 결과 출력\n",
    "message = response.choices[0].message\n",
    "\n",
    "print(\"\\n✅ 선택된 함수 이름:\")\n",
    "print(message.function_call.name)\n",
    "\n",
    "print(\"\\n📦 반환된 arguments:\")\n",
    "print(json.loads(message.function_call.arguments))\n"
   ]
  },
  {
   "cell_type": "code",
   "execution_count": null,
   "metadata": {},
   "outputs": [],
   "source": []
  }
 ],
 "metadata": {
  "kernelspec": {
   "display_name": "Python 3",
   "language": "python",
   "name": "python3"
  },
  "language_info": {
   "codemirror_mode": {
    "name": "ipython",
    "version": 3
   },
   "file_extension": ".py",
   "mimetype": "text/x-python",
   "name": "python",
   "nbconvert_exporter": "python",
   "pygments_lexer": "ipython3",
   "version": "3.10.12"
  }
 },
 "nbformat": 4,
 "nbformat_minor": 2
}
