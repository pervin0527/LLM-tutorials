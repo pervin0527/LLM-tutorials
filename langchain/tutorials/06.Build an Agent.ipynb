{
 "cells": [
  {
   "cell_type": "code",
   "execution_count": 1,
   "metadata": {},
   "outputs": [],
   "source": [
    "import os\n",
    "import getpass\n",
    "\n",
    "from dotenv import load_dotenv\n",
    "load_dotenv(\"../keys.env\")\n",
    "\n",
    "os.environ[\"LANGSMITH_TRACING\"] = \"true\"\n",
    "os.environ[\"LANGSMITH_API_KEY\"] = os.getenv(\"LANGSMITH_API_KEY\")\n",
    "os.environ[\"LANGSMITH_PROJECT\"] = \"pr-diligent-larch-37\"\n",
    "os.environ[\"OPENAI_API_KEY\"] = os.getenv(\"OPENAI_API_KEY\")"
   ]
  },
  {
   "cell_type": "code",
   "execution_count": 2,
   "metadata": {},
   "outputs": [],
   "source": [
    "# 필수 구성 요소 불러오기\n",
    "from langchain_anthropic import ChatAnthropic\n",
    "from langchain_core.messages import HumanMessage\n",
    "from langgraph.checkpoint.memory import MemorySaver\n",
    "\n",
    "## 검색 도구\n",
    "from langchain_community.tools.tavily_search import TavilySearchResults\n",
    "\n",
    "## ReAct 기반 에이전트 생성기\n",
    "from langgraph.prebuilt import create_react_agent"
   ]
  },
  {
   "cell_type": "code",
   "execution_count": 5,
   "metadata": {},
   "outputs": [],
   "source": [
    "model = ChatAnthropic(model_name=\"claude-3-sonnet-20240229\")\n",
    "\n",
    "# 대화 상태 기억용 메모리\n",
    "memory = MemorySaver()\n",
    "\n",
    "# 검색 툴 (최대 2개 결과 반환)\n",
    "search = TavilySearchResults(max_results=2)\n",
    "\n",
    "# 사용할 도구 목록\n",
    "tools = [search]\n",
    "\n",
    "# 에이전트 생성\n",
    "agent_executor = create_react_agent(model, tools, checkpointer=memory)"
   ]
  },
  {
   "cell_type": "code",
   "execution_count": null,
   "metadata": {},
   "outputs": [],
   "source": [
    "# Use the agent\n",
    "config = {\"configurable\": {\"thread_id\": \"abc123\"}}\n",
    "\n",
    "for step in agent_executor.stream({\"messages\": [HumanMessage(content=\"hi im bob! and i live in sf\")]}, config, stream_mode=\"values\",):\n",
    "    step[\"messages\"][-1].pretty_print()"
   ]
  },
  {
   "cell_type": "code",
   "execution_count": null,
   "metadata": {},
   "outputs": [],
   "source": [
    "for step in agent_executor.stream({\"messages\": [HumanMessage(content=\"whats the weather where I live?\")]}, config, stream_mode=\"values\"):\n",
    "    step[\"messages\"][-1].pretty_print()"
   ]
  },
  {
   "cell_type": "code",
   "execution_count": null,
   "metadata": {},
   "outputs": [],
   "source": []
  },
  {
   "cell_type": "code",
   "execution_count": 8,
   "metadata": {},
   "outputs": [
    {
     "name": "stdout",
     "output_type": "stream",
     "text": [
      "[{'title': 'Wednesday, April 2, 2025. San Francisco, CA - Weather Forecast', 'url': 'https://weathershogun.com/weather/usa/ca/san-francisco/480/april/2025-04-02', 'content': 'San Francisco, California Weather: Wednesday, April 2, 2025. Cloudy weather, overcast skies with clouds. Day 55°. Night 50°.', 'score': 0.92731744}, {'title': 'Weather in San Francisco', 'url': 'https://www.weatherapi.com/', 'content': \"{'location': {'name': 'San Francisco', 'region': 'California', 'country': 'United States of America', 'lat': 37.775, 'lon': -122.4183, 'tz_id': 'America/Los_Angeles', 'localtime_epoch': 1743558404, 'localtime': '2025-04-01 18:46'}, 'current': {'last_updated_epoch': 1743558300, 'last_updated': '2025-04-01 18:45', 'temp_c': 12.8, 'temp_f': 55.0, 'is_day': 1, 'condition': {'text': 'Partly cloudy', 'icon': '//cdn.weatherapi.com/weather/64x64/day/116.png', 'code': 1003}, 'wind_mph': 5.6, 'wind_kph': 9.0, 'wind_degree': 274, 'wind_dir': 'W', 'pressure_mb': 1013.0, 'pressure_in': 29.92, 'precip_mm': 0.0, 'precip_in': 0.0, 'humidity': 66, 'cloud': 75, 'feelslike_c': 12.1, 'feelslike_f': 53.8, 'windchill_c': 9.1, 'windchill_f': 48.3, 'heatindex_c': 11.4, 'heatindex_f': 52.6, 'dewpoint_c': 3.6, 'dewpoint_f': 38.5, 'vis_km': 16.0, 'vis_miles': 9.0, 'uv': 0.5, 'gust_mph': 7.6, 'gust_kph': 12.2}}\", 'score': 0.8562214}]\n",
      "title: Wednesday, April 2, 2025. San Francisco, CA - Weather Forecast\n",
      "url: https://weathershogun.com/weather/usa/ca/san-francisco/480/april/2025-04-02\n",
      "content: San Francisco, California Weather: Wednesday, April 2, 2025. Cloudy weather, overcast skies with clouds. Day 55°. Night 50°.\n",
      "score: 0.92731744\n"
     ]
    }
   ],
   "source": [
    "from langchain_community.tools.tavily_search import TavilySearchResults\n",
    "\n",
    "search = TavilySearchResults(max_results=2)\n",
    "search_results = search.invoke(\"what is the weather in SF\")\n",
    "print(search_results)\n",
    "\n",
    "for key, value in search_results[0].items():\n",
    "    print(f\"{key}: {value}\")\n",
    "\n",
    "# If we want, we can create other tools.\n",
    "# Once we have all the tools we want, we can put them in a list that we will reference later.\n",
    "tools = [search]"
   ]
  },
  {
   "cell_type": "code",
   "execution_count": 9,
   "metadata": {},
   "outputs": [],
   "source": [
    "from langchain.chat_models import init_chat_model\n",
    "from langchain_core.messages import HumanMessage\n",
    "\n",
    "model = init_chat_model(\"gpt-4o-mini\", model_provider=\"openai\")\n",
    "\n",
    "## 도구를 사용할 수 있는 모델 생성\n",
    "model_with_tools = model.bind_tools(tools)"
   ]
  },
  {
   "cell_type": "code",
   "execution_count": 10,
   "metadata": {},
   "outputs": [
    {
     "name": "stdout",
     "output_type": "stream",
     "text": [
      "ContentString: Hello! How can I assist you today?\n",
      "ToolCalls: []\n"
     ]
    }
   ],
   "source": [
    "response = model_with_tools.invoke([HumanMessage(content=\"Hi!\")])\n",
    "\n",
    "print(f\"ContentString: {response.content}\")\n",
    "print(f\"ToolCalls: {response.tool_calls}\")"
   ]
  },
  {
   "cell_type": "code",
   "execution_count": 12,
   "metadata": {},
   "outputs": [
    {
     "name": "stdout",
     "output_type": "stream",
     "text": [
      "ContentString: \n",
      "ToolCalls: [{'name': 'tavily_search_results_json', 'args': {'query': 'current weather in Seoul'}, 'id': 'call_5LkPhwgZMBDykmMuHfhjAhgx', 'type': 'tool_call'}]\n"
     ]
    }
   ],
   "source": [
    "response = model_with_tools.invoke([HumanMessage(content=\"What's the weather in Seoul?\")])\n",
    "\n",
    "print(f\"ContentString: {response.content}\")\n",
    "print(f\"ToolCalls: {response.tool_calls}\")"
   ]
  },
  {
   "cell_type": "code",
   "execution_count": null,
   "metadata": {},
   "outputs": [],
   "source": []
  },
  {
   "cell_type": "code",
   "execution_count": 13,
   "metadata": {},
   "outputs": [],
   "source": [
    "from langgraph.prebuilt import create_react_agent\n",
    "\n",
    "model = init_chat_model(\"gpt-4o-mini\", model_provider=\"openai\")\n",
    "search = TavilySearchResults(max_results=2)\n",
    "tools = [search]\n",
    "\n",
    "agent_executor = create_react_agent(model, tools)"
   ]
  },
  {
   "cell_type": "code",
   "execution_count": 17,
   "metadata": {},
   "outputs": [
    {
     "name": "stdout",
     "output_type": "stream",
     "text": [
      "================================\u001b[1m Human Message \u001b[0m=================================\n",
      "\n",
      "hi!\n",
      "==================================\u001b[1m Ai Message \u001b[0m==================================\n",
      "\n",
      "Hello! How can I assist you today?\n"
     ]
    }
   ],
   "source": [
    "response = agent_executor.invoke({\"messages\": [HumanMessage(content=\"hi!\")]})\n",
    "\n",
    "for message in response[\"messages\"]:\n",
    "    message.pretty_print()"
   ]
  },
  {
   "cell_type": "code",
   "execution_count": 18,
   "metadata": {},
   "outputs": [
    {
     "name": "stdout",
     "output_type": "stream",
     "text": [
      "================================\u001b[1m Human Message \u001b[0m=================================\n",
      "\n",
      "whats the weather in seoul?\n",
      "==================================\u001b[1m Ai Message \u001b[0m==================================\n",
      "Tool Calls:\n",
      "  tavily_search_results_json (call_9LY17bWni11qQo5e8fCxaD3U)\n",
      " Call ID: call_9LY17bWni11qQo5e8fCxaD3U\n",
      "  Args:\n",
      "    query: current weather in Seoul\n",
      "=================================\u001b[1m Tool Message \u001b[0m=================================\n",
      "Name: tavily_search_results_json\n",
      "\n",
      "[{\"title\": \"Weather in Seoul\", \"url\": \"https://www.weatherapi.com/\", \"content\": \"{'location': {'name': 'Seoul', 'region': '', 'country': 'South Korea', 'lat': 37.5664, 'lon': 126.9997, 'tz_id': 'Asia/Seoul', 'localtime_epoch': 1743562963, 'localtime': '2025-04-02 12:02'}, 'current': {'last_updated_epoch': 1743562800, 'last_updated': '2025-04-02 12:00', 'temp_c': 14.0, 'temp_f': 57.2, 'is_day': 1, 'condition': {'text': 'Sunny', 'icon': '//cdn.weatherapi.com/weather/64x64/day/113.png', 'code': 1000}, 'wind_mph': 5.8, 'wind_kph': 9.4, 'wind_degree': 220, 'wind_dir': 'SW', 'pressure_mb': 1020.0, 'pressure_in': 30.12, 'precip_mm': 0.0, 'precip_in': 0.0, 'humidity': 28, 'cloud': 0, 'feelslike_c': 13.5, 'feelslike_f': 56.3, 'windchill_c': 13.2, 'windchill_f': 55.8, 'heatindex_c': 13.8, 'heatindex_f': 56.8, 'dewpoint_c': -6.0, 'dewpoint_f': 21.1, 'vis_km': 10.0, 'vis_miles': 6.0, 'uv': 4.3, 'gust_mph': 6.7, 'gust_kph': 10.8}}\", \"score\": 0.9530881}, {\"title\": \"Seoul 2 April Weather. Forecast for Seoul - South Korea\", \"url\": \"https://globalmeteo.com/weather/seoul/apr-02/\", \"content\": \"Seoul 2 April Weather. Wednesday, Apr 2 2025. Night. Morning. Afternoon. Evening. Partly Cloudy.\", \"score\": 0.9161773}]\n",
      "==================================\u001b[1m Ai Message \u001b[0m==================================\n",
      "\n",
      "The current weather in Seoul is as follows:\n",
      "\n",
      "- **Temperature:** 14.0 °C (57.2 °F)\n",
      "- **Condition:** Sunny\n",
      "- **Wind:** 5.8 mph (9.4 kph) from the southwest\n",
      "- **Humidity:** 28%\n",
      "- **Visibility:** 10 km\n",
      "\n",
      "For more details, you can check the weather at [Weather API](https://www.weatherapi.com/).\n"
     ]
    }
   ],
   "source": [
    "response = agent_executor.invoke(\n",
    "    {\"messages\": [HumanMessage(content=\"whats the weather in seoul?\")]}\n",
    ")\n",
    "\n",
    "for message in response[\"messages\"]:\n",
    "    message.pretty_print()"
   ]
  },
  {
   "cell_type": "code",
   "execution_count": null,
   "metadata": {},
   "outputs": [],
   "source": []
  }
 ],
 "metadata": {
  "kernelspec": {
   "display_name": "Python 3",
   "language": "python",
   "name": "python3"
  },
  "language_info": {
   "codemirror_mode": {
    "name": "ipython",
    "version": 3
   },
   "file_extension": ".py",
   "mimetype": "text/x-python",
   "name": "python",
   "nbconvert_exporter": "python",
   "pygments_lexer": "ipython3",
   "version": "3.10.12"
  }
 },
 "nbformat": 4,
 "nbformat_minor": 2
}
