{
 "cells": [
  {
   "cell_type": "code",
   "execution_count": 1,
   "metadata": {},
   "outputs": [],
   "source": [
    "import faiss\n",
    "\n",
    "from uuid import uuid4\n",
    "from langchain.docstore.document import Document\n",
    "from langchain_community.vectorstores import FAISS\n",
    "from langchain_community.docstore.in_memory import InMemoryDocstore\n",
    "from langchain_huggingface.embeddings import HuggingFaceEmbeddings"
   ]
  },
  {
   "cell_type": "code",
   "execution_count": 2,
   "metadata": {},
   "outputs": [
    {
     "name": "stderr",
     "output_type": "stream",
     "text": [
      "/usr/local/lib/python3.10/dist-packages/tqdm/auto.py:21: TqdmWarning: IProgress not found. Please update jupyter and ipywidgets. See https://ipywidgets.readthedocs.io/en/stable/user_install.html\n",
      "  from .autonotebook import tqdm as notebook_tqdm\n"
     ]
    }
   ],
   "source": [
    "import sys\n",
    "sys.path.append(\"/culture_backoffice_data/app\")\n",
    "\n",
    "from app.src.v1.db.mongo import connect_to_mongo, convert_objectid_to_str\n",
    "from app.src.v1.rag.retriever.vector_retriever import VectorRetriever\n",
    "from app.src.v1.rag.retriever.hybrid_retriever import HybridRetriever\n",
    "\n",
    "from notebooks.eda import analyze_document_lengths, analyze_token_lengths"
   ]
  },
  {
   "cell_type": "markdown",
   "metadata": {},
   "source": [
    "## Config"
   ]
  },
  {
   "cell_type": "code",
   "execution_count": 3,
   "metadata": {},
   "outputs": [],
   "source": [
    "model_list = [\n",
    "    \"intfloat/multilingual-e5-large-instruct\", \n",
    "    \"dragonkue/BGE-m3-ko\",\n",
    "    \"Alibaba-NLP/gte-multilingual-base\",\n",
    "    \"Alibaba-NLP/gte-Qwen2-7B-instruct\",\n",
    "    \"Salesforce/SFR-Embedding-2_R\", \n",
    "]"
   ]
  },
  {
   "cell_type": "code",
   "execution_count": 4,
   "metadata": {},
   "outputs": [],
   "source": [
    "cfg = {\n",
    "    \"retrieve_method\": \"semantic\", ## semantic, hybrid\n",
    "    \"embed_provider\": \"huggingface\",\n",
    "    \"embed_model_name\": model_list[2],\n",
    "\n",
    "    \"top_k\": 20,\n",
    "    \"vector_threshold\": 0.7,\n",
    "    \"bm25_threshold\": 0.5,\n",
    "\n",
    "    \"index_type\": \"IP\",  # L2, IP, HNSW \n",
    "    \"model_kwargs\": {\n",
    "        \"device\": \"cuda:1\",\n",
    "        \"trust_remote_code\": True\n",
    "    },\n",
    "    \"encode_kwargs\": {\n",
    "        \"normalize_embeddings\": False,\n",
    "        \"batch_size\": 512,\n",
    "        \"multi_process\": True,\n",
    "        \"show_progress\": True\n",
    "    },\n",
    "    \"hybrid_search\": {\n",
    "        \"enabled\": True,\n",
    "        \"method\": \"cc\",  # \"rrf\" 또는 \"cc\"\n",
    "        \"rrf\": {\n",
    "            \"k\": 60  # RRF 상수 k\n",
    "        },\n",
    "        \"cc\": {\n",
    "            \"alpha\": 0.5  # 벡터 검색 가중치 (1-alpha는 BM25 가중치)\n",
    "        },\n",
    "        \"bm25\": {\n",
    "            \"k1\": 1.5,  # 용어 빈도 가중치\n",
    "            \"b\": 0.75   # 문서 길이 정규화 매개변수\n",
    "        }\n",
    "    },\n",
    "    \"use_cache\": True,  # 캐싱 활성화 여부\n",
    "    \"cache_dir\": \".cache\",  # 캐시 저장 디렉토리\n",
    "    \"tokenize_processes\": 4  # 토큰화에 사용할 프로세스 수\n",
    "}"
   ]
  },
  {
   "cell_type": "code",
   "execution_count": null,
   "metadata": {},
   "outputs": [],
   "source": []
  },
  {
   "cell_type": "markdown",
   "metadata": {},
   "source": [
    "## Data"
   ]
  },
  {
   "cell_type": "markdown",
   "metadata": {},
   "source": [
    "### DB에서 데이터 꺼내기"
   ]
  },
  {
   "cell_type": "code",
   "execution_count": 5,
   "metadata": {},
   "outputs": [
    {
     "name": "stdout",
     "output_type": "stream",
     "text": [
      "기업 데이터 불러오는 중...\n",
      "총 60개 기업 데이터를 불러왔습니다.\n"
     ]
    }
   ],
   "source": [
    "company_collection = connect_to_mongo(\"culture_db\", \"company\")\n",
    "hompage_collection = connect_to_mongo(\"culture_db\", \"company_homepage\")\n",
    "\n",
    "# 기업 데이터 가져오기\n",
    "print(\"기업 데이터 불러오는 중...\")\n",
    "companies = company_collection.find()\n",
    "total_data = []\n",
    "for company in companies:\n",
    "    id = company[\"_id\"]\n",
    "    name = company[\"company_name\"]\n",
    "    biz_no = company[\"biz_no\"]\n",
    "    total_data.append((id, name, biz_no))\n",
    "\n",
    "print(f\"총 {len(total_data)}개 기업 데이터를 불러왔습니다.\")"
   ]
  },
  {
   "cell_type": "code",
   "execution_count": 9,
   "metadata": {},
   "outputs": [
    {
     "name": "stdout",
     "output_type": "stream",
     "text": [
      "기업별 문서 길이 분석 중...\n"
     ]
    },
    {
     "name": "stderr",
     "output_type": "stream",
     "text": [
      "100%|██████████| 60/60 [00:00<00:00, 586.25it/s]"
     ]
    },
    {
     "name": "stdout",
     "output_type": "stream",
     "text": [
      "Warning: No homepage data found for 에이치디현대마린솔루션\n",
      "Warning: No homepage data found for 두산로보틱스\n",
      "Warning: No homepage data found for 크래프톤\n",
      "Warning: No homepage data found for 효성중공업\n",
      "Warning: No homepage data found for 주식회사 넷마블\n",
      "Warning: No homepage data found for 동서\n",
      "Warning: No homepage data found for 제주항공\n",
      "Warning: No homepage data found for 포스코인터내셔널\n",
      "Warning: No homepage data found for 고려아연\n",
      "Warning: No homepage data found for 테라바이오텍코리아\n"
     ]
    },
    {
     "name": "stderr",
     "output_type": "stream",
     "text": [
      "\n"
     ]
    }
   ],
   "source": [
    "doc_results = analyze_document_lengths(total_data, hompage_collection)"
   ]
  },
  {
   "cell_type": "code",
   "execution_count": 10,
   "metadata": {},
   "outputs": [
    {
     "name": "stdout",
     "output_type": "stream",
     "text": [
      "임베딩 모델 'Alibaba-NLP/gte-multilingual-base'의 토크나이저로 토큰화 분석 중...\n"
     ]
    },
    {
     "name": "stderr",
     "output_type": "stream",
     "text": [
      " 50%|█████     | 30/60 [00:08<00:07,  3.93it/s]Token indices sequence length is longer than the specified maximum sequence length for this model (42343 > 32768). Running this sequence through the model will result in indexing errors\n",
      "100%|██████████| 60/60 [00:14<00:00,  4.06it/s]\n",
      "Font 'default' does not have a glyph for '\\u2212' [U+2212], substituting with a dummy symbol.\n",
      "Font 'default' does not have a glyph for '\\u2212' [U+2212], substituting with a dummy symbol.\n",
      "Font 'default' does not have a glyph for '\\u2212' [U+2212], substituting with a dummy symbol.\n",
      "Font 'default' does not have a glyph for '\\u2212' [U+2212], substituting with a dummy symbol.\n",
      "Font 'default' does not have a glyph for '\\u2212' [U+2212], substituting with a dummy symbol.\n",
      "Font 'default' does not have a glyph for '\\u2212' [U+2212], substituting with a dummy symbol.\n",
      "Font 'default' does not have a glyph for '\\u2212' [U+2212], substituting with a dummy symbol.\n",
      "Font 'default' does not have a glyph for '\\u2212' [U+2212], substituting with a dummy symbol.\n",
      "Font 'default' does not have a glyph for '\\u2212' [U+2212], substituting with a dummy symbol.\n",
      "Font 'default' does not have a glyph for '\\u2212' [U+2212], substituting with a dummy symbol.\n",
      "Font 'default' does not have a glyph for '\\u2212' [U+2212], substituting with a dummy symbol.\n",
      "Font 'default' does not have a glyph for '\\u2212' [U+2212], substituting with a dummy symbol.\n",
      "Font 'default' does not have a glyph for '\\u2212' [U+2212], substituting with a dummy symbol.\n",
      "Font 'default' does not have a glyph for '\\u2212' [U+2212], substituting with a dummy symbol.\n",
      "Font 'default' does not have a glyph for '\\u2212' [U+2212], substituting with a dummy symbol.\n",
      "Font 'default' does not have a glyph for '\\u2212' [U+2212], substituting with a dummy symbol.\n",
      "100%|██████████| 60/60 [00:00<00:00, 81.40it/s]\n"
     ]
    }
   ],
   "source": [
    "token_results = analyze_token_lengths(total_data, hompage_collection, model_list[2])"
   ]
  },
  {
   "cell_type": "code",
   "execution_count": 11,
   "metadata": {},
   "outputs": [
    {
     "name": "stdout",
     "output_type": "stream",
     "text": [
      "\n",
      "분석이 완료되었습니다.\n",
      "분석 결과는 'analysis_results' 디렉토리에 저장되었습니다.\n",
      "\n",
      "=== 문서 길이 분석 요약 ===\n",
      "총 문서 수: 7911\n",
      "평균 문서 길이: 2347.8 글자\n",
      "중앙값 문서 길이: 1492.0 글자\n",
      "최소 문서 길이: 11 글자\n",
      "최대 문서 길이: 116366 글자\n",
      "\n",
      "=== 토큰 길이 분석 요약 ===\n",
      "모델: Alibaba-NLP/gte-multilingual-base\n",
      "평균 토큰 길이: 900.9 토큰\n",
      "중앙값 토큰 길이: 598.0 토큰\n",
      "최소 토큰 길이: 6 토큰\n",
      "최대 토큰 길이: 42343 토큰\n",
      "평균 토큰/문자 비율: 0.4460\n"
     ]
    }
   ],
   "source": [
    "print(\"\\n분석이 완료되었습니다.\")\n",
    "print(f\"분석 결과는 'analysis_results' 디렉토리에 저장되었습니다.\")\n",
    "\n",
    "# 요약 정보 출력\n",
    "print(\"\\n=== 문서 길이 분석 요약 ===\")\n",
    "print(f\"총 문서 수: {doc_results['total_stats']['total_documents']}\")\n",
    "print(f\"평균 문서 길이: {doc_results['total_stats']['avg_length']:.1f} 글자\")\n",
    "print(f\"중앙값 문서 길이: {doc_results['total_stats']['median_length']:.1f} 글자\")\n",
    "print(f\"최소 문서 길이: {doc_results['total_stats']['min_length']} 글자\")\n",
    "print(f\"최대 문서 길이: {doc_results['total_stats']['max_length']} 글자\")\n",
    "\n",
    "print(\"\\n=== 토큰 길이 분석 요약 ===\")\n",
    "print(f\"모델: {cfg['embed_model_name']}\")\n",
    "print(f\"평균 토큰 길이: {token_results['total_token_stats']['avg_token_length']:.1f} 토큰\")\n",
    "print(f\"중앙값 토큰 길이: {token_results['total_token_stats']['median_token_length']:.1f} 토큰\")\n",
    "print(f\"최소 토큰 길이: {token_results['total_token_stats']['min_token_length']} 토큰\")\n",
    "print(f\"최대 토큰 길이: {token_results['total_token_stats']['max_token_length']} 토큰\")\n",
    "print(f\"평균 토큰/문자 비율: {token_results['correlation_data']['token_to_char_ratio'].mean():.4f}\")"
   ]
  },
  {
   "cell_type": "code",
   "execution_count": null,
   "metadata": {},
   "outputs": [],
   "source": [
    "hompage_collection = connect_to_mongo(\"culture_db\", \"company_homepage\")\n",
    "\n",
    "total_pages = []\n",
    "for id, name, biz_no in total_data:\n",
    "    id = convert_objectid_to_str(id)\n",
    "    print(f\"{id}, {name} {biz_no}\")\n",
    "    homepage = hompage_collection.find_one({\"company_id\": id})\n",
    "\n",
    "    if homepage is None:\n",
    "        print(f\"Warning: No homepage data found for {name}\")\n",
    "        continue\n",
    "\n",
    "    pages = homepage[\"pages\"]\n",
    "    print(f\"{name} : {len(pages)}\")\n",
    "    for page in homepage[\"pages\"]:\n",
    "        total_pages.append((name, page))\n",
    "\n",
    "print(len(total_pages))"
   ]
  },
  {
   "cell_type": "code",
   "execution_count": null,
   "metadata": {},
   "outputs": [],
   "source": [
    "def analyze_and_optimize_chunking(docs, sample_size=100):\n",
    "    "
   ]
  },
  {
   "cell_type": "code",
   "execution_count": null,
   "metadata": {},
   "outputs": [],
   "source": [
    "total_docs = []\n",
    "for company_name, page in total_pages:\n",
    "    total_docs.append(Document(page_content=page[\"text\"], metadata={\"company_name\": company_name, \"url\": page[\"url\"]}, id=uuid4()))\n",
    "\n",
    "print(len(total_docs))"
   ]
  },
  {
   "cell_type": "code",
   "execution_count": null,
   "metadata": {},
   "outputs": [],
   "source": [
    "sample = total_docs[0]\n",
    "print(\"=\" * 100)\n",
    "print(sample.id, sample.metadata['url'], sample.metadata['company_name'])\n",
    "print(\"=\" * 100)\n",
    "print(sample.page_content)"
   ]
  },
  {
   "cell_type": "code",
   "execution_count": null,
   "metadata": {},
   "outputs": [],
   "source": []
  },
  {
   "cell_type": "markdown",
   "metadata": {},
   "source": [
    "## Vector Retriever"
   ]
  },
  {
   "cell_type": "code",
   "execution_count": null,
   "metadata": {},
   "outputs": [],
   "source": [
    "vector_store = VectorRetriever(total_docs, cfg)"
   ]
  },
  {
   "cell_type": "code",
   "execution_count": null,
   "metadata": {},
   "outputs": [],
   "source": [
    "results = vector_store.similarity_search_with_score(\"코리아교육그룹의 비전 및 목표\")\n",
    "\n",
    "for document, score in results:\n",
    "    doc_id = document.id\n",
    "    corp_name = document.metadata['company_name']\n",
    "    page_url = document.metadata['url']\n",
    "    content = document.page_content\n",
    "\n",
    "    print(\"=\" * 100)\n",
    "    print(f\"{corp_name}, {page_url}, {score}\")\n",
    "    print(\"=\" * 100)\n",
    "    print(content, \"\\n\\n\")"
   ]
  },
  {
   "cell_type": "code",
   "execution_count": null,
   "metadata": {},
   "outputs": [],
   "source": [
    "results = vector_store.similarity_search_with_score(\"코리아교육그룹의 일하는 방식과 조직문화\")\n",
    "\n",
    "for document, score in results:\n",
    "    doc_id = document.id\n",
    "    corp_name = document.metadata['company_name']\n",
    "    page_url = document.metadata['url']\n",
    "    content = document.page_content\n",
    "\n",
    "    print(\"=\" * 100)\n",
    "    print(f\"{corp_name}, {page_url}, {score}\")\n",
    "    print(\"=\" * 100)\n",
    "    print(content, \"\\n\\n\")"
   ]
  },
  {
   "cell_type": "code",
   "execution_count": null,
   "metadata": {},
   "outputs": [],
   "source": []
  }
 ],
 "metadata": {
  "kernelspec": {
   "display_name": "Python 3",
   "language": "python",
   "name": "python3"
  },
  "language_info": {
   "codemirror_mode": {
    "name": "ipython",
    "version": 3
   },
   "file_extension": ".py",
   "mimetype": "text/x-python",
   "name": "python",
   "nbconvert_exporter": "python",
   "pygments_lexer": "ipython3",
   "version": "3.10.12"
  }
 },
 "nbformat": 4,
 "nbformat_minor": 2
}
