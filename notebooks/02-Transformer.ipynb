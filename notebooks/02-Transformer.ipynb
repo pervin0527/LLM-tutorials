{
 "cells": [
  {
   "cell_type": "code",
   "execution_count": 1,
   "metadata": {},
   "outputs": [],
   "source": [
    "import torch\n",
    "\n",
    "from math import sqrt\n",
    "\n",
    "from torch import nn\n",
    "from torch.nn import functional as F"
   ]
  },
  {
   "cell_type": "markdown",
   "metadata": {},
   "source": [
    "# Tokenization"
   ]
  },
  {
   "cell_type": "markdown",
   "metadata": {},
   "source": [
    "## 공백 기준 토큰화"
   ]
  },
  {
   "cell_type": "code",
   "execution_count": 2,
   "metadata": {},
   "outputs": [
    {
     "name": "stdout",
     "output_type": "stream",
     "text": [
      "['나는', '대한민국', '서울에', '사는', '사람이다.']\n"
     ]
    }
   ],
   "source": [
    "input_text = \"나는 대한민국 서울에 사는 사람이다.\"\n",
    "input_text_list = input_text.split()\n",
    "print(input_text_list)"
   ]
  },
  {
   "cell_type": "markdown",
   "metadata": {},
   "source": [
    "## 단어집 생성"
   ]
  },
  {
   "cell_type": "code",
   "execution_count": 3,
   "metadata": {},
   "outputs": [
    {
     "name": "stdout",
     "output_type": "stream",
     "text": [
      "{'나는': 0, '대한민국': 1, '서울에': 2, '사는': 3, '사람이다.': 4}\n",
      "{0: '나는', 1: '대한민국', 2: '서울에', 3: '사는', 4: '사람이다.'}\n"
     ]
    }
   ],
   "source": [
    "## Vocabulary 구축.\n",
    "str2idx = {word:idx for idx, word in enumerate(input_text_list)}\n",
    "idx2str = {idx:word for idx, word in enumerate(input_text_list)}\n",
    "\n",
    "print(str2idx)\n",
    "print(idx2str)"
   ]
  },
  {
   "cell_type": "markdown",
   "metadata": {},
   "source": [
    "## 토큰 리스트 -> id 리스트"
   ]
  },
  {
   "cell_type": "code",
   "execution_count": 4,
   "metadata": {},
   "outputs": [
    {
     "name": "stdout",
     "output_type": "stream",
     "text": [
      "[0, 1, 2, 3, 4]\n"
     ]
    }
   ],
   "source": [
    "input_ids = [str2idx[text] for text in input_text_list]\n",
    "print(input_ids)"
   ]
  },
  {
   "cell_type": "markdown",
   "metadata": {},
   "source": [
    "## 토큰 임베딩"
   ]
  },
  {
   "cell_type": "code",
   "execution_count": 5,
   "metadata": {},
   "outputs": [
    {
     "name": "stdout",
     "output_type": "stream",
     "text": [
      "Input Tensor : torch.Size([5])\n",
      "Token Embedding : torch.Size([5, 512])\n",
      "Unsqueeze Token Embedding : torch.Size([1, 5, 512])\n"
     ]
    }
   ],
   "source": [
    "embed_dim = 512 ## d_model\n",
    "token_embed_layer = nn.Embedding(len(str2idx), embed_dim) ## vocab_size, output_dim\n",
    "\n",
    "input_tensor = torch.tensor(input_ids)\n",
    "print(f\"Input Tensor : {input_tensor.shape}\")\n",
    "\n",
    "token_embeddings = token_embed_layer(input_tensor)\n",
    "print(f\"Token Embedding : {token_embeddings.shape}\")\n",
    "\n",
    "token_embeddings = token_embeddings.unsqueeze(0)\n",
    "print(f\"Unsqueeze Token Embedding : {token_embeddings.shape}\")"
   ]
  },
  {
   "cell_type": "markdown",
   "metadata": {},
   "source": [
    "## 위치 임베딩(Absolute Positional Encoding)"
   ]
  },
  {
   "cell_type": "code",
   "execution_count": 6,
   "metadata": {},
   "outputs": [
    {
     "name": "stdout",
     "output_type": "stream",
     "text": [
      "IDs Length : 5\n",
      "Position IDs : torch.Size([5]) tensor([0, 1, 2, 3, 4])\n",
      "Unsqueeze Position IDs : torch.Size([1, 5])\n",
      "Position Embedding : torch.Size([1, 5, 512])\n"
     ]
    }
   ],
   "source": [
    "max_position = 1024 ## 최대 토큰 수, 최대 문장 길이\n",
    "\n",
    "ids_len = len(input_ids) ## 시퀀스 데이터가 포함하는 토큰들의 수\n",
    "print(f\"IDs Length : {ids_len}\") ## 5\n",
    "\n",
    "position_ids = torch.arange(ids_len, dtype=torch.long) ## 각 토큰별로 위치값(정수)을 부여.\n",
    "print(f\"Position IDs : {position_ids.shape} {position_ids}\") ## (5,) [0, 1, 2, 3, 4]\n",
    "\n",
    "position_ids = position_ids.unsqueeze(0)\n",
    "print(f\"Unsqueeze Position IDs : {position_ids.shape}\") ## (1, 5)\n",
    "\n",
    "position_embed_layer = nn.Embedding(max_position, embed_dim) ## 각 토큰별 위치(정수형 id)를 embed_dim 차원의 벡터로 임베딩.\n",
    "position_embeddings = position_embed_layer(position_ids)\n",
    "print(f\"Position Embedding : {position_embeddings.shape}\") ## (1, 5, 16)"
   ]
  },
  {
   "cell_type": "markdown",
   "metadata": {},
   "source": [
    "## Input Embedding"
   ]
  },
  {
   "cell_type": "code",
   "execution_count": 7,
   "metadata": {},
   "outputs": [
    {
     "name": "stdout",
     "output_type": "stream",
     "text": [
      "Input Embeddings : torch.Size([1, 5, 512])\n"
     ]
    }
   ],
   "source": [
    "input_embeddings = token_embeddings + position_embeddings\n",
    "print(f\"Input Embeddings : {input_embeddings.shape}\")"
   ]
  },
  {
   "cell_type": "markdown",
   "metadata": {},
   "source": [
    "## Self-Attention"
   ]
  },
  {
   "cell_type": "markdown",
   "metadata": {},
   "source": [
    "### Query, Key, Value"
   ]
  },
  {
   "cell_type": "code",
   "execution_count": 8,
   "metadata": {},
   "outputs": [
    {
     "name": "stdout",
     "output_type": "stream",
     "text": [
      "Head dim : 64\n",
      "Query : torch.Size([1, 5, 64])\n",
      "Key : torch.Size([1, 5, 64])\n",
      "Value : torch.Size([1, 5, 64])\n"
     ]
    }
   ],
   "source": [
    "d_model = embed_dim\n",
    "num_heads = 8\n",
    "head_dim = d_model // num_heads\n",
    "print(f\"Head dim : {head_dim}\")\n",
    "\n",
    "## input_embedding을 query, key, value로 변환하는 층\n",
    "weight_q = nn.Linear(embed_dim, head_dim)\n",
    "weight_k = nn.Linear(embed_dim, head_dim)\n",
    "weight_v = nn.Linear(embed_dim, head_dim)\n",
    "\n",
    "## 변환 수행\n",
    "querys = weight_q(input_embeddings)\n",
    "keys = weight_k(input_embeddings)\n",
    "values = weight_v(input_embeddings)\n",
    "\n",
    "print(f\"Query : {querys.shape}\")\n",
    "print(f\"Key : {keys.shape}\")\n",
    "print(f\"Value : {values.shape}\")"
   ]
  },
  {
   "cell_type": "markdown",
   "metadata": {},
   "source": [
    "### Self-Attention"
   ]
  },
  {
   "cell_type": "code",
   "execution_count": null,
   "metadata": {},
   "outputs": [],
   "source": [
    "def compute_attention(querys, keys, values, is_casual=False):\n",
    "    ## Attention Score\n",
    "    dim_k = querys.size(-1)\n",
    "    scores = querys @ keys.transpose(-2, -1) ## Q \\cdot K^T\n",
    "    normalized_scores = scores / sqrt(dim_k) ## \\sqrt{dim_k}로 나누기(scaling)\n",
    "\n",
    "    ## Attention Dist\n",
    "    weights = F.softmax(normalized_scores, dim=-1)\n",
    "\n",
    "    return weights @ values ## Attention Values"
   ]
  },
  {
   "cell_type": "code",
   "execution_count": 10,
   "metadata": {},
   "outputs": [
    {
     "name": "stdout",
     "output_type": "stream",
     "text": [
      "Attention 적용 후 : torch.Size([1, 5, 64])\n"
     ]
    }
   ],
   "source": [
    "attention_embeddings = compute_attention(querys, keys, values)\n",
    "print(f\"Attention 적용 후 : {attention_embeddings.shape}\")"
   ]
  },
  {
   "cell_type": "code",
   "execution_count": 11,
   "metadata": {},
   "outputs": [],
   "source": [
    "class AttentionHead(nn.Module):\n",
    "    def __init__(self, embed_dim, head_dim, is_casual=False):\n",
    "        super().__init__()\n",
    "\n",
    "        self.is_casual = is_casual\n",
    "        self.weight_q = nn.Linear(embed_dim, head_dim)\n",
    "        self.weight_k = nn.Linear(embed_dim, head_dim)\n",
    "        self.weight_v = nn.Linear(embed_dim, head_dim)\n",
    "\n",
    "    def forward(self, input_embeddings):\n",
    "        querys = self.weight_q(input_embeddings)\n",
    "        keys = self.weight_k(input_embeddings)\n",
    "        values = self.weight_v(input_embeddings)\n",
    "\n",
    "        outputs = compute_attention(querys, keys, values, is_casual=self.is_casual)\n",
    "        \n",
    "        return outputs"
   ]
  },
  {
   "cell_type": "code",
   "execution_count": 12,
   "metadata": {},
   "outputs": [
    {
     "name": "stdout",
     "output_type": "stream",
     "text": [
      "Attention 적용 후 : torch.Size([1, 5, 64])\n"
     ]
    }
   ],
   "source": [
    "attention_head = AttentionHead(embed_dim, head_dim)\n",
    "attention_embeddings = attention_head(input_embeddings)\n",
    "print(f\"Attention 적용 후 : {attention_embeddings.shape}\")"
   ]
  },
  {
   "cell_type": "markdown",
   "metadata": {},
   "source": [
    "## Multi Head Attention"
   ]
  },
  {
   "cell_type": "code",
   "execution_count": 13,
   "metadata": {},
   "outputs": [],
   "source": [
    "class MultiHeadAttention(nn.Module):\n",
    "    def __init__(self, embed_dim, d_model, num_heads, is_casual=False, debug=False):\n",
    "        super().__init__()\n",
    "        self.num_heads = num_heads\n",
    "        self.is_casual = is_casual\n",
    "        self.debug = debug\n",
    "\n",
    "        self.weight_q = nn.Linear(embed_dim, d_model)\n",
    "        self.weight_k = nn.Linear(embed_dim, d_model)\n",
    "        self.weight_v = nn.Linear(embed_dim, d_model)\n",
    "\n",
    "        self.concat_linear = nn.Linear(d_model, d_model)\n",
    "\n",
    "    def forward(self, input_embeddings):\n",
    "        batch_size, seq_len, embedding_dim = input_embeddings.size()\n",
    "\n",
    "        querys = self.weight_q(input_embeddings).view(batch_size, seq_len, self.num_heads, embedding_dim // self.num_heads).transpose(1, 2)\n",
    "        keys = self.weight_k(input_embeddings).view(batch_size, seq_len, self.num_heads, embedding_dim // self.num_heads).transpose(1, 2)\n",
    "        values = self.weight_v(input_embeddings).view(batch_size, seq_len, self.num_heads, embedding_dim // self.num_heads).transpose(1, 2)\n",
    "\n",
    "        attention = compute_attention(querys, keys, values, self.is_casual)\n",
    "        output = attention.transpose(1, 2).contiguous().view(batch_size, seq_len, embedding_dim)\n",
    "        output = self.concat_linear(output)\n",
    "\n",
    "        if self.debug:\n",
    "            print(f\"Querys : {querys.shape}\")\n",
    "            print(f\"Keys : {keys.shape}\")\n",
    "            print(f\"Values : {values.shape}\")\n",
    "            print(f\"Attention_Value : {attention.shape}\")\n",
    "            print(f\"Output : {output.shape}\")\n",
    "\n",
    "        return output"
   ]
  },
  {
   "cell_type": "code",
   "execution_count": 15,
   "metadata": {},
   "outputs": [
    {
     "name": "stdout",
     "output_type": "stream",
     "text": [
      "Querys : torch.Size([1, 8, 5, 64])\n",
      "Keys : torch.Size([1, 8, 5, 64])\n",
      "Values : torch.Size([1, 8, 5, 64])\n",
      "Attention_Value : torch.Size([1, 8, 5, 64])\n",
      "Output : torch.Size([1, 5, 512])\n",
      "Multi Head Attention 적용 후 : torch.Size([1, 5, 512])\n"
     ]
    }
   ],
   "source": [
    "num_heads = 8\n",
    "\n",
    "multi_head_attention_layer = MultiHeadAttention(embed_dim, d_model, num_heads, debug=True)\n",
    "multi_head_attn_output = multi_head_attention_layer(input_embeddings)\n",
    "print(f\"Multi Head Attention 적용 후 : {multi_head_attn_output.shape}\")"
   ]
  },
  {
   "cell_type": "markdown",
   "metadata": {},
   "source": [
    "## LayerNorm"
   ]
  },
  {
   "cell_type": "code",
   "execution_count": 16,
   "metadata": {},
   "outputs": [
    {
     "name": "stdout",
     "output_type": "stream",
     "text": [
      "Layer Norm : torch.Size([1, 5, 512])\n",
      "mean : tensor([[ 1.2107e-08,  1.3039e-08,  1.0245e-08, -9.3132e-09, -4.6566e-10]]), std : tensor([[1.0010, 1.0010, 1.0010, 1.0010, 1.0010]])\n"
     ]
    }
   ],
   "source": [
    "norm_layer = nn.LayerNorm(embed_dim)\n",
    "norm_x = norm_layer(input_embeddings)\n",
    "print(f\"Layer Norm : {norm_x.shape}\")\n",
    "print(f\"mean : {norm_x.mean(dim=-1).data}, std : {norm_x.std(dim=-1).data}\")"
   ]
  },
  {
   "cell_type": "markdown",
   "metadata": {},
   "source": [
    "## FeedForward"
   ]
  },
  {
   "cell_type": "code",
   "execution_count": null,
   "metadata": {},
   "outputs": [],
   "source": [
    "class FeedForward(nn.Module):\n",
    "    def __init__(self, d_model, d_ffn, dropout):\n",
    "        super().__init__()\n",
    "        self.linear1 = nn.Linear(d_model, d_ffn)\n",
    "        self.linear2 = nn.Linear(d_ffn, d_model)\n",
    "\n",
    "        self.dropout1 = nn.Dropout(dropout)\n",
    "        self.dropout2 = nn.Dropout(dropout)\n",
    "\n",
    "        self.activation = nn.GELU()\n",
    "        self.norm = nn.LayerNorm(d_model)\n",
    "\n",
    "    def forward(self, src):\n",
    "        x = self.norm(src)\n",
    "        x1 = self.dropout1(self.activation(self.linear1(x)))\n",
    "        x = x + self.linear2(x1)\n",
    "        x = self.dropout2(x)\n",
    "\n",
    "        return x"
   ]
  }
 ],
 "metadata": {
  "kernelspec": {
   "display_name": "nlp-project",
   "language": "python",
   "name": "python3"
  },
  "language_info": {
   "codemirror_mode": {
    "name": "ipython",
    "version": 3
   },
   "file_extension": ".py",
   "mimetype": "text/x-python",
   "name": "python",
   "nbconvert_exporter": "python",
   "pygments_lexer": "ipython3",
   "version": "3.9.19"
  }
 },
 "nbformat": 4,
 "nbformat_minor": 2
}
