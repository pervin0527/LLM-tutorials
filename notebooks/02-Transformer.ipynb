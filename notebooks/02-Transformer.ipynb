{
 "cells": [
  {
   "cell_type": "code",
   "execution_count": 1,
   "metadata": {},
   "outputs": [],
   "source": [
    "import torch\n",
    "from torch import nn"
   ]
  },
  {
   "cell_type": "markdown",
   "metadata": {},
   "source": [
    "# Tokenization"
   ]
  },
  {
   "cell_type": "markdown",
   "metadata": {},
   "source": [
    "## 공백 기준 토큰화"
   ]
  },
  {
   "cell_type": "code",
   "execution_count": 2,
   "metadata": {},
   "outputs": [
    {
     "name": "stdout",
     "output_type": "stream",
     "text": [
      "['나는', '대한민국', '서울에', '사는', '사람이다.']\n"
     ]
    }
   ],
   "source": [
    "input_text = \"나는 대한민국 서울에 사는 사람이다.\"\n",
    "input_text_list = input_text.split()\n",
    "print(input_text_list)"
   ]
  },
  {
   "cell_type": "markdown",
   "metadata": {},
   "source": [
    "## 단어집 생성"
   ]
  },
  {
   "cell_type": "code",
   "execution_count": 3,
   "metadata": {},
   "outputs": [
    {
     "name": "stdout",
     "output_type": "stream",
     "text": [
      "{'나는': 0, '대한민국': 1, '서울에': 2, '사는': 3, '사람이다.': 4}\n",
      "{0: '나는', 1: '대한민국', 2: '서울에', 3: '사는', 4: '사람이다.'}\n"
     ]
    }
   ],
   "source": [
    "## Vocabulary 구축.\n",
    "str2idx = {word:idx for idx, word in enumerate(input_text_list)}\n",
    "idx2str = {idx:word for idx, word in enumerate(input_text_list)}\n",
    "\n",
    "print(str2idx)\n",
    "print(idx2str)"
   ]
  },
  {
   "cell_type": "markdown",
   "metadata": {},
   "source": [
    "## 토큰 리스트 -> id 리스트"
   ]
  },
  {
   "cell_type": "code",
   "execution_count": 4,
   "metadata": {},
   "outputs": [
    {
     "name": "stdout",
     "output_type": "stream",
     "text": [
      "[0, 1, 2, 3, 4]\n"
     ]
    }
   ],
   "source": [
    "input_ids = [str2idx[text] for text in input_text_list]\n",
    "print(input_ids)"
   ]
  },
  {
   "cell_type": "markdown",
   "metadata": {},
   "source": [
    "## 토큰 임베딩"
   ]
  },
  {
   "cell_type": "code",
   "execution_count": 5,
   "metadata": {},
   "outputs": [
    {
     "name": "stdout",
     "output_type": "stream",
     "text": [
      "Input Tensor : torch.Size([5])\n",
      "Token Embedding : torch.Size([5, 16])\n",
      "Unsqueeze Token Embedding : torch.Size([1, 5, 16])\n"
     ]
    }
   ],
   "source": [
    "embed_dim = 16\n",
    "token_embed_layer = nn.Embedding(len(str2idx), embed_dim) ## vocab_size, output_dim\n",
    "\n",
    "input_tensor = torch.tensor(input_ids)\n",
    "print(f\"Input Tensor : {input_tensor.shape}\")\n",
    "\n",
    "token_embeddings = token_embed_layer(input_tensor)\n",
    "print(f\"Token Embedding : {token_embeddings.shape}\")\n",
    "\n",
    "token_embeddings = token_embeddings.unsqueeze(0)\n",
    "print(f\"Unsqueeze Token Embedding : {token_embeddings.shape}\")"
   ]
  },
  {
   "cell_type": "markdown",
   "metadata": {},
   "source": [
    "## 위치 임베딩(Absolute Positional Encoding)"
   ]
  },
  {
   "cell_type": "code",
   "execution_count": null,
   "metadata": {},
   "outputs": [
    {
     "name": "stdout",
     "output_type": "stream",
     "text": [
      "IDs Length : 5\n",
      "Position IDs : torch.Size([5]) tensor([0, 1, 2, 3, 4])\n",
      "Unsqueeze Position IDs : torch.Size([1, 5])\n",
      "Position Embedding : torch.Size([1, 5, 16])\n"
     ]
    }
   ],
   "source": [
    "max_position = 12 ## 최대 토큰 수, 최대 문장 길이\n",
    "\n",
    "ids_len = len(input_ids) ## 시퀀스 데이터가 포함하는 토큰들의 수\n",
    "print(f\"IDs Length : {ids_len}\") ## 5\n",
    "\n",
    "position_ids = torch.arange(ids_len, dtype=torch.long) ## 각 토큰별로 위치값(정수)을 부여.\n",
    "print(f\"Position IDs : {position_ids.shape} {position_ids}\") ## (5,) [0, 1, 2, 3, 4]\n",
    "\n",
    "position_ids = position_ids.unsqueeze(0)\n",
    "print(f\"Unsqueeze Position IDs : {position_ids.shape}\") ## (1, 5)\n",
    "\n",
    "position_embed_layer = nn.Embedding(max_position, embed_dim) ## 각 토큰별 위치(정수형 id)를 embed_dim 차원의 벡터로 임베딩.\n",
    "position_embeddings = position_embed_layer(position_ids)\n",
    "print(f\"Position Embedding : {position_embeddings.shape}\") ## (1, 5, 16)"
   ]
  },
  {
   "cell_type": "code",
   "execution_count": null,
   "metadata": {},
   "outputs": [],
   "source": []
  }
 ],
 "metadata": {
  "kernelspec": {
   "display_name": "nlp-project",
   "language": "python",
   "name": "python3"
  },
  "language_info": {
   "codemirror_mode": {
    "name": "ipython",
    "version": 3
   },
   "file_extension": ".py",
   "mimetype": "text/x-python",
   "name": "python",
   "nbconvert_exporter": "python",
   "pygments_lexer": "ipython3",
   "version": "3.9.19"
  }
 },
 "nbformat": 4,
 "nbformat_minor": 2
}
