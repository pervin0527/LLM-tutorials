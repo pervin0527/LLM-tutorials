{
 "cells": [
  {
   "cell_type": "code",
   "execution_count": null,
   "metadata": {},
   "outputs": [],
   "source": [
    "!wget ftp://ftp.irisa.fr/local/texmex/corpus/sift.tar.gz\n",
    "!tar -xf sift.tar.gz\n",
    "!mkdir data/sift1M -p\n",
    "!mv sift/* data/sift1M"
   ]
  },
  {
   "cell_type": "code",
   "execution_count": 1,
   "metadata": {},
   "outputs": [],
   "source": [
    "import psutil\n",
    "\n",
    "def get_memory_usage_mb():\n",
    "    process = psutil.Process()\n",
    "    memory_info = process.memory_info()\n",
    "\n",
    "    return memory_info\n",
    "\n",
    "import time\n",
    "import faiss\n",
    "from faiss.contrib.datasets import DatasetSIFT1M\n",
    "\n",
    "ds = DatasetSIFT1M()\n",
    "xq = ds.get_queries()\n",
    "xb = ds.get_database()\n",
    "gt = ds.get_groundtruth()"
   ]
  },
  {
   "cell_type": "code",
   "execution_count": 3,
   "metadata": {},
   "outputs": [
    {
     "name": "stdout",
     "output_type": "stream",
     "text": [
      "데이터 200000개 : \n",
      "색인: 37.157 ms (-0.105 MB) 검색: 0.111 ms\n",
      "데이터 400000개 : \n",
      "색인: 74.369 ms (97.719 MB) 검색: 0.199 ms\n",
      "데이터 600000개 : \n",
      "색인: 111.570 ms (97.758 MB) 검색: 0.301 ms\n",
      "데이터 800000개 : \n",
      "색인: 148.911 ms (97.715 MB) 검색: 0.479 ms\n",
      "데이터 1000000개 : \n",
      "색인: 185.719 ms (97.457 MB) 검색: 0.509 ms\n"
     ]
    }
   ],
   "source": [
    "k = 1\n",
    "d = xq.shape[1]\n",
    "nq = 1000\n",
    "xq = xq[:nq]\n",
    "\n",
    "for i in range(1, 10, 2):\n",
    "    start_memory = get_memory_usage_mb().rss / (1024 * 1024)  # MB로 변환\n",
    "    start_indexing = time.time()\n",
    "    index = faiss.IndexFlatL2(d)\n",
    "    index.add(xb[:(i+1) * 100000])\n",
    "    end_indexing = time.time()\n",
    "    end_memory = get_memory_usage_mb().rss / (1024 * 1024)  # MB로 변환\n",
    "\n",
    "    t0 = time.time()\n",
    "    D, I = index.search(xq, k)\n",
    "    t1 = time.time()\n",
    "    print(f\"데이터 {(i+1) * 100000}개 : \")\n",
    "    print(f\"색인: {(end_indexing - start_indexing) * 1000 :.3f} ms ({end_memory - start_memory:.3f} MB) 검색: {(t1 - t0) * 1000 / nq :.3f} ms\")\n"
   ]
  },
  {
   "cell_type": "code",
   "execution_count": null,
   "metadata": {},
   "outputs": [],
   "source": []
  }
 ],
 "metadata": {
  "kernelspec": {
   "display_name": "nlp-project",
   "language": "python",
   "name": "python3"
  },
  "language_info": {
   "codemirror_mode": {
    "name": "ipython",
    "version": 3
   },
   "file_extension": ".py",
   "mimetype": "text/x-python",
   "name": "python",
   "nbconvert_exporter": "python",
   "pygments_lexer": "ipython3",
   "version": "3.9.19"
  }
 },
 "nbformat": 4,
 "nbformat_minor": 2
}
