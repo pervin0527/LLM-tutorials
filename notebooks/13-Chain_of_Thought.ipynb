{
 "cells": [
  {
   "cell_type": "code",
   "execution_count": 1,
   "metadata": {},
   "outputs": [],
   "source": [
    "import os\n",
    "from openai import OpenAI"
   ]
  },
  {
   "cell_type": "code",
   "execution_count": 2,
   "metadata": {},
   "outputs": [],
   "source": [
    "from dotenv import load_dotenv\n",
    "load_dotenv(\"../keys.env\")\n",
    "api_key = os.getenv('GRAVY_LAB_OPENAI')\n",
    "\n",
    "client = OpenAI(api_key=api_key)"
   ]
  },
  {
   "cell_type": "code",
   "execution_count": 3,
   "metadata": {},
   "outputs": [],
   "source": [
    "def generate_completion(prompt: str, model: str = \"gpt-3.5-turbo\", max_tokens: int = 100) -> str:\n",
    "    completion = client.chat.completions.create(\n",
    "        model=model,\n",
    "        messages=[\n",
    "            {\"role\": \"system\", \"content\": \"You are a helpful assistant.\"},\n",
    "            {\"role\": \"user\", \"content\": prompt}\n",
    "        ],\n",
    "        max_tokens=max_tokens,\n",
    "        temperature=0\n",
    "    )\n",
    "    return completion.choices[0].message.content"
   ]
  },
  {
   "cell_type": "code",
   "execution_count": 4,
   "metadata": {},
   "outputs": [
    {
     "name": "stdout",
     "output_type": "stream",
     "text": [
      "Response with CoT:\n",
      " 1. 처음에 샀던 사과의 개수는 10개이다.\n",
      "2. 이웃에게 2개를 주었으므로 10 - 2 = 8개가 남는다.\n",
      "3. 수리공에게 2개를 주었으므로 8 - 2 = 6개가 남는다.\n",
      "4. 추가로 5개를 더 샀으므로 6 + 5 = 11개가 된다.\n",
      "5. 마지막으로 1개를 먹었으므로 11 - 1 = 10개가 남는다.\n",
      "\n",
      "따라서, 사과가 남은 개수는 10개이다.\n"
     ]
    }
   ],
   "source": [
    "prompt = \"\"\"\n",
    "문제: 나는 시장에 가서 사과 10개를 샀어. 나는 사과 2개를 이웃에게 주고, 2개를 수리공에게 주었어. 그리고 사과 5개를 더 사서 1개는 내가 먹었어. 사과가 몇 개나 남았니?\n",
    "단계별로 생각해 보자.\n",
    "\"\"\"\n",
    "\n",
    "response = generate_completion(prompt, model=\"gpt-3.5-turbo\", max_tokens=200)\n",
    "print(\"Response with CoT:\\n\", response)"
   ]
  }
 ],
 "metadata": {
  "kernelspec": {
   "display_name": "vllm",
   "language": "python",
   "name": "python3"
  },
  "language_info": {
   "codemirror_mode": {
    "name": "ipython",
    "version": 3
   },
   "file_extension": ".py",
   "mimetype": "text/x-python",
   "name": "python",
   "nbconvert_exporter": "python",
   "pygments_lexer": "ipython3",
   "version": "3.10.12"
  }
 },
 "nbformat": 4,
 "nbformat_minor": 2
}
