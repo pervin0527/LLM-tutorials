{
 "cells": [
  {
   "cell_type": "code",
   "execution_count": 1,
   "metadata": {},
   "outputs": [],
   "source": [
    "import os\n",
    "from openai import OpenAI"
   ]
  },
  {
   "cell_type": "code",
   "execution_count": 2,
   "metadata": {},
   "outputs": [],
   "source": [
    "from dotenv import load_dotenv\n",
    "load_dotenv(\"../keys.env\")\n",
    "api_key = os.getenv('GRAVY_LAB_OPENAI')\n",
    "\n",
    "client = OpenAI(api_key=api_key)"
   ]
  },
  {
   "cell_type": "code",
   "execution_count": 3,
   "metadata": {},
   "outputs": [],
   "source": [
    "def generate_completion(prompt: str, model: str = \"gpt-3.5-turbo\", max_tokens: int = 100) -> str:\n",
    "    completion = client.chat.completions.create(\n",
    "        model=model,\n",
    "        messages=[\n",
    "            {\"role\": \"system\", \"content\": \"You are a helpful assistant.\"},\n",
    "            {\"role\": \"user\", \"content\": prompt}\n",
    "        ],\n",
    "        max_tokens=max_tokens,\n",
    "        temperature=0\n",
    "    )\n",
    "    return completion.choices[0].message.content"
   ]
  },
  {
   "cell_type": "code",
   "execution_count": 4,
   "metadata": {},
   "outputs": [
    {
     "name": "stdout",
     "output_type": "stream",
     "text": [
      "Response with CoT:\n",
      " 1. 처음에 샀던 사과의 개수는 10개이다.\n",
      "2. 이웃에게 2개를 주었으므로 10 - 2 = 8개가 남는다.\n",
      "3. 수리공에게 2개를 주었으므로 8 - 2 = 6개가 남는다.\n",
      "4. 추가로 5개를 더 샀으므로 6 + 5 = 11개가 된다.\n",
      "5. 마지막으로 1개를 먹었으므로 11 - 1 = 10개가 남는다.\n",
      "\n",
      "따라서, 사과가 남은 개수는 10개이다.\n"
     ]
    }
   ],
   "source": [
    "prompt = \"\"\"\n",
    "문제: 나는 시장에 가서 사과 10개를 샀어. 나는 사과 2개를 이웃에게 주고, 2개를 수리공에게 주었어. 그리고 사과 5개를 더 사서 1개는 내가 먹었어. 사과가 몇 개나 남았니?\n",
    "단계별로 생각해 보자.\n",
    "\"\"\"\n",
    "\n",
    "response = generate_completion(prompt, model=\"gpt-3.5-turbo\", max_tokens=200)\n",
    "print(\"Response with CoT:\\n\", response)"
   ]
  },
  {
   "cell_type": "code",
   "execution_count": null,
   "metadata": {},
   "outputs": [],
   "source": []
  },
  {
   "cell_type": "code",
   "execution_count": null,
   "metadata": {},
   "outputs": [],
   "source": [
    "client = OpenAI(api_key=api_key)"
   ]
  },
  {
   "cell_type": "code",
   "execution_count": null,
   "metadata": {},
   "outputs": [],
   "source": [
    "def completion_run(messages):\n",
    "    completion = client.chat.completions.create(\n",
    "        model=\"gpt-3.5-turbo\", \n",
    "        messages=messages,\n",
    "        temperature=0\n",
    "    )\n",
    "\n",
    "    return completion.choices[0].message.content"
   ]
  },
  {
   "cell_type": "code",
   "execution_count": null,
   "metadata": {},
   "outputs": [
    {
     "name": "stdout",
     "output_type": "stream",
     "text": [
      "철수가 가지고 있는 사과의 개수는 5개이므로, 영희는 철수의 3배인 5 x 3 = 15개의 사과를 가지고 있다. 따라서, 영희는 15개의 사과를 가지고 있다.\n"
     ]
    }
   ],
   "source": [
    "messages=[\n",
    "    {\"role\": \"system\", \"content\": \"주어진 문제에 대한 답을 구해라.\"},\n",
    "    {\"role\": \"user\", \"content\": \"문제: 철수는 사과 5개를 가지고 있고, 영희는 철수의 3배만큼 사과를 가지고 있다면 영희는 몇 개의 사과를 가지고 있는가?\"}\n",
    "]\n",
    "\n",
    "answer = completion_run(messages)\n",
    "print(answer)"
   ]
  },
  {
   "cell_type": "code",
   "execution_count": null,
   "metadata": {},
   "outputs": [
    {
     "name": "stdout",
     "output_type": "stream",
     "text": [
      "개 알레르기가 있는 사람은 친구에게 개 알레르기가 있다는 사실을 알려주고, 개가 있는 집에 가는 것이 건강에 해로울 수 있다는 점을 이해해달라고 요청할 수 있습니다. 또는 개가 있는 집에 가지 않고 다른 장소에서 모임을 가질 수도 있습니다. 친구와 솔직하게 소통하여 상황을 해결하는 것이 중요합니다.\n"
     ]
    }
   ],
   "source": [
    "messages=[\n",
    "    {\"role\": \"system\", \"content\": \"주어진 문제에 대한 답을 구해라.\"},\n",
    "    {\"role\": \"user\", \"content\": \"문제: 사람이 개 알레르기가 있고 친구가 개가 있는 집으로 초대하면 그 사람은 어떻게 해야하나요?\"}\n",
    "]\n",
    "\n",
    "answer = completion_run(messages)\n",
    "print(answer)"
   ]
  },
  {
   "cell_type": "code",
   "execution_count": null,
   "metadata": {},
   "outputs": [
    {
     "name": "stdout",
     "output_type": "stream",
     "text": [
      "카페테리아에는 처음에 23개의 사과가 있었습니다. 직원이 20개의 사과를 사용했으므로 23 - 20 = 3개의 사과가 남았습니다. 그리고 6개의 사과를 추가로 구매했으므로 3 + 6 = 9개의 사과를 보유하고 있습니다. 따라서 카페테리아에는 9개의 사과가 있습니다.\n"
     ]
    }
   ],
   "source": [
    "messages=[\n",
    "    {\"role\": \"system\", \"content\": \"주어진 문제에 대한 답을 구해라.\"},\n",
    "    {\"role\": \"user\", \"content\": \"문제: 카페테리아에는 23개의 사과가 있습니다. 만약 카페 직원이 20개의 사과를 사용해 점심을 만들었고, 6개의 사과를 더 구매했다면 몇 개의 사과를 보유하고 있나요??\"}\n",
    "]\n",
    "\n",
    "answer = completion_run(messages)\n",
    "print(answer)"
   ]
  },
  {
   "cell_type": "code",
   "execution_count": null,
   "metadata": {},
   "outputs": [
    {
     "name": "stdout",
     "output_type": "stream",
     "text": [
      "옵션 1의 소요 시간은 1000 + 30 + 10 = 1040분이고, 옵션 2의 소요 시간은 800 + 60 + 30 = 890분입니다. 따라서 옵션 2가 더 빠르게 출근할 수 있는 경로입니다.\n"
     ]
    }
   ],
   "source": [
    "messages=[\n",
    "    {\"role\": \"system\", \"content\": \"주어진 문제에 대한 답을 구해라.\"},\n",
    "    {\"role\": \"user\", \"content\": \"문제: 어느 경로가 더 빠르게 출근할 수 있을까요? \\n옵션 1: 1000분 동안 버스를 타고, 30분 동안 기차를 타고, 마지막으로 10분 동안 자전거를 탑니다. \\n옵션 2: 800분 동안 버스를 타고, 1시간 동안 기차를 타고, 마지막으로 30분 동안 자전거를 탑니다.\"}\n",
    "]\n",
    "\n",
    "answer = completion_run(messages)\n",
    "print(answer)"
   ]
  },
  {
   "cell_type": "code",
   "execution_count": null,
   "metadata": {},
   "outputs": [
    {
     "name": "stdout",
     "output_type": "stream",
     "text": [
      "우선 문제에서 주어진 조건을 수식으로 나타내면 다음과 같습니다.\n",
      "\n",
      "1. \\( \\frac{x}{3} + x = 12 \\)\n",
      "2. \\( x - \\frac{x}{4} = 5 \\)\n",
      "\n",
      "첫 번째 수식을 정리하면 다음과 같습니다.\n",
      "\n",
      "\\( \\frac{x}{3} + x = 12 \\)  \n",
      "\\( \\frac{4x}{3} = 12 \\)  \n",
      "\\( 4x = 36 \\)  \n",
      "\\( x = 9 \\)\n",
      "\n",
      "두 번째 수식을 정리하면 다음과 같습니다.\n",
      "\n",
      "\\( x - \\frac{x}{4} = 5 \\)  \n",
      "\\( \\frac{3x}{4} = 5 \\)  \n",
      "\\( 3x = 20 \\)  \n",
      "\\( x = \\frac{20}{3} \\)\n",
      "\n",
      "따라서, 주어진 조건을 만족하는 수는 9입니다.\n"
     ]
    }
   ],
   "source": [
    "messages=[\n",
    "    {\"role\": \"system\", \"content\": \"주어진 문제에 대한 답을 구해라.\"},\n",
    "    {\"role\": \"user\", \"content\": \"문제: 어떤 수의 1/3을 더한 값이 12이고, 그 수의 1/4을 뺀 값이 5일 때, 그 수는 얼마인가?\"}\n",
    "]\n",
    "\n",
    "answer = completion_run(messages)\n",
    "print(answer)"
   ]
  },
  {
   "cell_type": "code",
   "execution_count": null,
   "metadata": {},
   "outputs": [
    {
     "name": "stdout",
     "output_type": "stream",
     "text": [
      "1. 문제의 조건을 바탕으로 필요한 수식을 세우면 다음과 같습니다.\n",
      "   - x + 1/3x = 12\n",
      "   - x - 1/4x = 5\n",
      "\n",
      "2. 수식을 정리하여 변수를 계산하면 다음과 같습니다.\n",
      "   - 4x + x = 36 (12의 배수로 만들기 위해 3을 곱함)\n",
      "     => 5x = 36\n",
      "     => x = 36 / 5 = 7.2\n",
      "\n",
      "3. 계산 결과를 검증하여 조건을 만족하는지 확인합니다.\n",
      "   - 7.2 + 1/3 * 7.2 = 12\n",
      "     => 7.2 + 2.4 = 12\n",
      "     => 9.6 = 12 (조건 만족)\n",
      "   - 7.2 - 1/4 * 7.2 = 5\n",
      "     => 7.2 - 1.8 = 5\n",
      "     => 5.4 = 5 (조건 만족)\n",
      "\n",
      "4. 따라서, 주어진 조건을 만족하는 수는 7.2입니다.\n"
     ]
    }
   ],
   "source": [
    "messages = [\n",
    "    {\"role\": \"system\", \"content\": \"주어진 문제를 단계별로 풀이하여 답을 구해라.\"},\n",
    "    {\"role\": \"user\", \"content\": \"문제: 어떤 수의 1/3을 더한 값이 12이고, 그 수의 1/4을 뺀 값이 5일 때, 그 수는 얼마인가?\"}\n",
    "]\n",
    "\n",
    "# CoT 방식의 안내 추가\n",
    "cot_prompt = \"\"\"\n",
    "문제를 단계적으로 풀이하세요.\n",
    "\n",
    "1. 문제의 조건을 바탕으로 필요한 수식을 세우세요.\n",
    "2. 수식을 정리하여 변수를 계산하세요.\n",
    "3. 계산 결과를 검증하여 조건을 만족하는지 확인하세요.\n",
    "4. 최종적으로 답을 출력하세요.\n",
    "\n",
    "이제 위 단계를 따라 문제를 해결해 주세요.\n",
    "\"\"\"\n",
    "\n",
    "messages.append({\"role\": \"system\", \"content\": cot_prompt})\n",
    "\n",
    "# OpenAI completion 함수 실행 (completion_run은 OpenAI API 호출로 대체해야 할 수도 있음)\n",
    "answer = completion_run(messages)\n",
    "print(answer)\n"
   ]
  },
  {
   "cell_type": "code",
   "execution_count": null,
   "metadata": {},
   "outputs": [
    {
     "data": {
      "text/plain": [
       "7.533333333333333"
      ]
     },
     "metadata": {},
     "output_type": "display_data"
    }
   ],
   "source": []
  },
  {
   "cell_type": "code",
   "execution_count": null,
   "metadata": {},
   "outputs": [],
   "source": []
  }
 ],
 "metadata": {
  "kernelspec": {
   "display_name": "vllm",
   "language": "python",
   "name": "python3"
  },
  "language_info": {
   "codemirror_mode": {
    "name": "ipython",
    "version": 3
   },
   "file_extension": ".py",
   "mimetype": "text/x-python",
   "name": "python",
   "nbconvert_exporter": "python",
   "pygments_lexer": "ipython3",
   "version": "3.10.12"
  }
 },
 "nbformat": 4,
 "nbformat_minor": 2
}
