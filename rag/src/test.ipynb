{
 "cells": [
  {
   "cell_type": "code",
   "execution_count": 1,
   "metadata": {},
   "outputs": [],
   "source": [
    "import os\n",
    "import time\n",
    "\n",
    "from selenium import webdriver\n",
    "from selenium.webdriver.common.by import By\n",
    "from selenium.webdriver.chrome.options import Options\n",
    "from selenium.webdriver.chrome.service import Service\n",
    "from selenium.webdriver.support.ui import WebDriverWait\n",
    "from selenium.common.exceptions import NoSuchElementException\n",
    "from selenium.webdriver.support import expected_conditions as EC\n",
    "\n",
    "from webdriver_manager.chrome import ChromeDriverManager"
   ]
  },
  {
   "cell_type": "code",
   "execution_count": 2,
   "metadata": {},
   "outputs": [],
   "source": [
    "options = Options()\n",
    "# options.add_argument(\"--headless\")\n",
    "options.add_argument('--incognito')\n",
    "options.add_argument(\"--no-sandbox\")\n",
    "options.add_argument(\"--disable-gpu\")\n",
    "options.add_argument('--disable-infobars')\n",
    "options.add_argument(\"--disable-extensions\")\n",
    "options.add_argument('--disable-dev-shm-usage')\n",
    "options.add_argument('--ignore-ssl-errors')\n",
    "options.add_argument(\"--disable-popup-blocking\")\n",
    "options.add_argument('--ignore-certificate-errors')\n",
    "options.add_argument('--allow-insecure-localhost')\n",
    "options.add_argument(\"--blink-settings=imagesEnabled=false\")  # 이미지 비활성화\n",
    "options.add_argument(\"user-agent=Mozilla/5.0 (Windows NT 10.0; Win64; x64) AppleWebKit/537.36 (KHTML, like Gecko) Chrome/91.0.4472.124 Safari/537.36\")"
   ]
  },
  {
   "cell_type": "code",
   "execution_count": 3,
   "metadata": {},
   "outputs": [],
   "source": [
    "screen_shot_path = \"./samples\"\n",
    "os.makedirs(screen_shot_path, exist_ok=True)"
   ]
  },
  {
   "cell_type": "code",
   "execution_count": 4,
   "metadata": {},
   "outputs": [],
   "source": [
    "url = \"https://www.saramin.co.kr/zf_user/jobs/list/domestic\"\n",
    "browser = webdriver.Chrome(options=options)\n",
    "browser.get(url)"
   ]
  },
  {
   "cell_type": "code",
   "execution_count": 5,
   "metadata": {},
   "outputs": [
    {
     "data": {
      "text/plain": [
       "True"
      ]
     },
     "execution_count": 5,
     "metadata": {},
     "output_type": "execute_result"
    }
   ],
   "source": [
    "browser.save_screenshot(f\"{screen_shot_path}/sc_00.png\")"
   ]
  },
  {
   "cell_type": "code",
   "execution_count": 6,
   "metadata": {},
   "outputs": [],
   "source": [
    "sp_main_wrapper = browser.find_element(By.ID, \"sp_main_wrapper\")\n",
    "btn_area = sp_main_wrapper.find_element(By.CLASS_NAME, \"btn_area\")"
   ]
  },
  {
   "cell_type": "code",
   "execution_count": 7,
   "metadata": {},
   "outputs": [],
   "source": [
    "btn_area.click()"
   ]
  },
  {
   "cell_type": "code",
   "execution_count": 11,
   "metadata": {},
   "outputs": [
    {
     "name": "stdout",
     "output_type": "stream",
     "text": [
      "서울전체\n",
      "강남구 (16,358)\n",
      "강동구 (1,536)\n",
      "강북구 (505)\n",
      "강서구 (2,789)\n",
      "관악구 (1,664)\n",
      "광진구 (1,292)\n",
      "구로구 (2,868)\n",
      "금천구 (3,684)\n",
      "노원구 (566)\n",
      "도봉구 (349)\n",
      "동대문구 (949)\n",
      "동작구 (1,064)\n",
      "마포구 (3,594)\n",
      "서대문구 (944)\n",
      "서초구 (6,448)\n",
      "성동구 (3,000)\n",
      "성북구 (540)\n",
      "송파구 (4,252)\n",
      "양천구 (1,031)\n",
      "영등포구 (3,958)\n",
      "\n",
      "\n",
      "\n",
      "\n",
      "\n"
     ]
    }
   ],
   "source": [
    "sp_area = sp_main_wrapper.find_element(By.ID, \"sp_area_lastDepth_101000\") ## 리스트 형태로 id를 담아야할듯\n",
    "sp_area = sp_area.find_elements(By.TAG_NAME, \"li\")\n",
    "\n",
    "for area in sp_area:\n",
    "    print(area.text)"
   ]
  },
  {
   "cell_type": "code",
   "execution_count": null,
   "metadata": {},
   "outputs": [],
   "source": []
  }
 ],
 "metadata": {
  "kernelspec": {
   "display_name": "Python 3",
   "language": "python",
   "name": "python3"
  },
  "language_info": {
   "codemirror_mode": {
    "name": "ipython",
    "version": 3
   },
   "file_extension": ".py",
   "mimetype": "text/x-python",
   "name": "python",
   "nbconvert_exporter": "python",
   "pygments_lexer": "ipython3",
   "version": "3.8.10"
  }
 },
 "nbformat": 4,
 "nbformat_minor": 2
}
